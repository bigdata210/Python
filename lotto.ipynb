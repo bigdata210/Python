{
 "cells": [
  {
   "attachments": {},
   "cell_type": "markdown",
   "metadata": {},
   "source": [
    "로또 번호 생성하기"
   ]
  },
  {
   "cell_type": "code",
   "execution_count": 5,
   "metadata": {},
   "outputs": [],
   "source": [
    "import random\n",
    "# 1~45번 숫자를 추출하기\n",
    "num_range = range(1,46)\n",
    "\n",
    "# 추출된 숫자를 리스트로 변경\n",
    "num_list =list(num_range)"
   ]
  },
  {
   "cell_type": "code",
   "execution_count": 6,
   "metadata": {},
   "outputs": [
    {
     "name": "stdout",
     "output_type": "stream",
     "text": [
      "42\n",
      "41\n",
      "25\n",
      "45\n",
      "10\n",
      "36\n",
      "[42, 41, 25, 45, 10, 36]\n"
     ]
    }
   ],
   "source": [
    "#로또 번호 생성하기\n",
    "lotto=[]\n",
    "\n",
    "while len(lotto) <6:\n",
    "    random.shuffle(num_list)     # 숫자를 무작위로 섞기\n",
    "    num_selected = num_list[0]   # 숫자를 하나씩 추출\n",
    "    if num_selected in lotto:   \n",
    "        continue\n",
    "    lotto.append(num_selected)   # lotto 리스트에 추가\n",
    "    print(num_selected)          # 추출된 숫자 확인\n",
    "\n",
    "print(lotto)"
   ]
  }
 ],
 "metadata": {
  "kernelspec": {
   "display_name": "base",
   "language": "python",
   "name": "python3"
  },
  "language_info": {
   "codemirror_mode": {
    "name": "ipython",
    "version": 3
   },
   "file_extension": ".py",
   "mimetype": "text/x-python",
   "name": "python",
   "nbconvert_exporter": "python",
   "pygments_lexer": "ipython3",
   "version": "3.9.16"
  },
  "orig_nbformat": 4
 },
 "nbformat": 4,
 "nbformat_minor": 2
}
