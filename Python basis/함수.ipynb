{
 "cells": [
  {
   "attachments": {},
   "cell_type": "markdown",
   "metadata": {},
   "source": [
    "사용자 정의 함수"
   ]
  },
  {
   "cell_type": "code",
   "execution_count": 3,
   "metadata": {},
   "outputs": [
    {
     "data": {
      "text/plain": [
       "2"
      ]
     },
     "execution_count": 3,
     "metadata": {},
     "output_type": "execute_result"
    }
   ],
   "source": [
    "# cal_modulo 함수 생성 \n",
    "def cal_modulo(a,b):\n",
    "    temp = a%b\n",
    "    return temp\n",
    "cal_modulo(5,3)"
   ]
  },
  {
   "cell_type": "code",
   "execution_count": 6,
   "metadata": {},
   "outputs": [
    {
     "name": "stdout",
     "output_type": "stream",
     "text": [
      "2\n",
      "0\n",
      "1\n"
     ]
    }
   ],
   "source": [
    "num_pairs=[(5,3),(2,2),(10,3)]\n",
    "for a,b in num_pairs:\n",
    "    modulo = cal_modulo(a,b)\n",
    "    print(modulo)"
   ]
  },
  {
   "cell_type": "code",
   "execution_count": 8,
   "metadata": {},
   "outputs": [
    {
     "data": {
      "text/plain": [
       "{(5, 3): 2, (2, 2): 0, (10, 3): 1}"
      ]
     },
     "execution_count": 8,
     "metadata": {},
     "output_type": "execute_result"
    }
   ],
   "source": [
    "# 2개의 숫자 쌍을 원소로 갖는 리스트를 입력받아 딕셔너리로 저장하는 함수\n",
    "def cal_pairs_modulo(num_pair_list):\n",
    "    result={}\n",
    "    for a,b in num_pairs:\n",
    "        modulo= a%b \n",
    "        result[(a,b)] = modulo\n",
    "    return result\n",
    "mod_pairs = cal_pairs_modulo(num_pairs)\n",
    "mod_pairs\n"
   ]
  },
  {
   "cell_type": "code",
   "execution_count": 10,
   "metadata": {},
   "outputs": [
    {
     "name": "stdout",
     "output_type": "stream",
     "text": [
      "{(5, 3): 2, (2, 2): 0, (10, 3): 1}\n"
     ]
    }
   ],
   "source": [
    "def print_mod_pairs():\n",
    "    print(cal_pairs_modulo(num_pairs))\n",
    "print_mod_pairs()"
   ]
  },
  {
   "attachments": {},
   "cell_type": "markdown",
   "metadata": {},
   "source": [
    "람다(lambda) 함수\n",
    ": 함수를 간단히 표기 가능"
   ]
  },
  {
   "cell_type": "code",
   "execution_count": 14,
   "metadata": {},
   "outputs": [
    {
     "name": "stdout",
     "output_type": "stream",
     "text": [
      "2\n"
     ]
    }
   ],
   "source": [
    "def add_one(num):\n",
    "    return num + 1\n",
    "answer = add_one(1)\n",
    "\n",
    "print(answer) "
   ]
  },
  {
   "cell_type": "code",
   "execution_count": 16,
   "metadata": {},
   "outputs": [
    {
     "name": "stdout",
     "output_type": "stream",
     "text": [
      "[2, 3, 4]\n"
     ]
    }
   ],
   "source": [
    "add_one_list=[]\n",
    "for x in [1,2,3]:\n",
    "    y=add_one(x)\n",
    "    add_one_list.append(y)\n",
    "\n",
    "print(add_one_list)"
   ]
  },
  {
   "cell_type": "code",
   "execution_count": 18,
   "metadata": {},
   "outputs": [
    {
     "name": "stdout",
     "output_type": "stream",
     "text": [
      "[2, 3, 4]\n"
     ]
    }
   ],
   "source": [
    "add_one_lambda =[]\n",
    "add_func= lambda x:add_one_lambda.append(x+1)   # x를 입력받아 숫자 1을 더하고 그 값을 리스트에 추가\n",
    "for x in [1,2,3]:\n",
    "    add_func(x)\n",
    "\n",
    "print(add_one_lambda)"
   ]
  },
  {
   "cell_type": "code",
   "execution_count": 20,
   "metadata": {},
   "outputs": [
    {
     "name": "stdout",
     "output_type": "stream",
     "text": [
      "5\n"
     ]
    }
   ],
   "source": [
    "new_add_func= lambda x, y:x+y\n",
    "answer = new_add_func(2,3)\n",
    "print(answer)"
   ]
  },
  {
   "attachments": {},
   "cell_type": "markdown",
   "metadata": {},
   "source": [
    "파이썬 내장 함수<br/>\n",
    ": sum, max, min, len, enumerate, range, list, eval, map, filter, round, reversed, sorted, zip "
   ]
  },
  {
   "cell_type": "code",
   "execution_count": 26,
   "metadata": {},
   "outputs": [
    {
     "name": "stdout",
     "output_type": "stream",
     "text": [
      "15\n",
      "5\n",
      "1\n",
      "5\n"
     ]
    }
   ],
   "source": [
    "# sum 함수\n",
    "numbers = [1,2,3,4,5]\n",
    "print(sum(numbers))\n",
    "\n",
    "# max 함수\n",
    "print(max(numbers))\n",
    "\n",
    "# min 함수\n",
    "print(min(numbers))\n",
    "\n",
    "# len 함수\n",
    "print(len(numbers))"
   ]
  },
  {
   "cell_type": "code",
   "execution_count": 29,
   "metadata": {},
   "outputs": [
    {
     "name": "stdout",
     "output_type": "stream",
     "text": [
      "0 1\n",
      "1 2\n",
      "2 3\n",
      "3 4\n",
      "4 5\n"
     ]
    }
   ],
   "source": [
    "# enumerate 함수 : 개별 원소를 인덱스 숫자와 반환 (i:인덱스, num:원소값)\n",
    "for i, num in enumerate(numbers):\n",
    "    print(i, num)\n"
   ]
  }
 ],
 "metadata": {
  "kernelspec": {
   "display_name": "base",
   "language": "python",
   "name": "python3"
  },
  "language_info": {
   "codemirror_mode": {
    "name": "ipython",
    "version": 3
   },
   "file_extension": ".py",
   "mimetype": "text/x-python",
   "name": "python",
   "nbconvert_exporter": "python",
   "pygments_lexer": "ipython3",
   "version": "3.9.16"
  },
  "orig_nbformat": 4
 },
 "nbformat": 4,
 "nbformat_minor": 2
}
