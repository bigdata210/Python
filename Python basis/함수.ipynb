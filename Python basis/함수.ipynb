{
 "cells": [
  {
   "attachments": {},
   "cell_type": "markdown",
   "metadata": {},
   "source": [
    "사용자 정의 함수"
   ]
  },
  {
   "cell_type": "code",
   "execution_count": 3,
   "metadata": {},
   "outputs": [
    {
     "data": {
      "text/plain": [
       "2"
      ]
     },
     "execution_count": 3,
     "metadata": {},
     "output_type": "execute_result"
    }
   ],
   "source": [
    "# cal_modulo 함수 생성 \n",
    "def cal_modulo(a,b):\n",
    "    temp = a%b\n",
    "    return temp\n",
    "cal_modulo(5,3)"
   ]
  },
  {
   "cell_type": "code",
   "execution_count": 6,
   "metadata": {},
   "outputs": [
    {
     "name": "stdout",
     "output_type": "stream",
     "text": [
      "2\n",
      "0\n",
      "1\n"
     ]
    }
   ],
   "source": [
    "num_pairs=[(5,3),(2,2),(10,3)]\n",
    "for a,b in num_pairs:\n",
    "    modulo = cal_modulo(a,b)\n",
    "    print(modulo)"
   ]
  },
  {
   "cell_type": "code",
   "execution_count": 8,
   "metadata": {},
   "outputs": [
    {
     "data": {
      "text/plain": [
       "{(5, 3): 2, (2, 2): 0, (10, 3): 1}"
      ]
     },
     "execution_count": 8,
     "metadata": {},
     "output_type": "execute_result"
    }
   ],
   "source": [
    "# 2개의 숫자 쌍을 원소로 갖는 리스트를 입력받아 딕셔너리로 저장하는 함수\n",
    "def cal_pairs_modulo(num_pair_list):\n",
    "    result={}\n",
    "    for a,b in num_pairs:\n",
    "        modulo= a%b \n",
    "        result[(a,b)] = modulo\n",
    "    return result\n",
    "mod_pairs = cal_pairs_modulo(num_pairs)\n",
    "mod_pairs\n"
   ]
  },
  {
   "cell_type": "code",
   "execution_count": 10,
   "metadata": {},
   "outputs": [
    {
     "name": "stdout",
     "output_type": "stream",
     "text": [
      "{(5, 3): 2, (2, 2): 0, (10, 3): 1}\n"
     ]
    }
   ],
   "source": [
    "def print_mod_pairs():\n",
    "    print(cal_pairs_modulo(num_pairs))\n",
    "print_mod_pairs()"
   ]
  },
  {
   "attachments": {},
   "cell_type": "markdown",
   "metadata": {},
   "source": [
    "람다(lambda) 함수\n",
    ": 함수를 간단히 표기 가능"
   ]
  },
  {
   "cell_type": "code",
   "execution_count": 14,
   "metadata": {},
   "outputs": [
    {
     "name": "stdout",
     "output_type": "stream",
     "text": [
      "2\n"
     ]
    }
   ],
   "source": [
    "def add_one(num):\n",
    "    return num + 1\n",
    "answer = add_one(1)\n",
    "\n",
    "print(answer) "
   ]
  },
  {
   "cell_type": "code",
   "execution_count": 16,
   "metadata": {},
   "outputs": [
    {
     "name": "stdout",
     "output_type": "stream",
     "text": [
      "[2, 3, 4]\n"
     ]
    }
   ],
   "source": [
    "add_one_list=[]\n",
    "for x in [1,2,3]:\n",
    "    y=add_one(x)\n",
    "    add_one_list.append(y)\n",
    "\n",
    "print(add_one_list)"
   ]
  },
  {
   "cell_type": "code",
   "execution_count": 18,
   "metadata": {},
   "outputs": [
    {
     "name": "stdout",
     "output_type": "stream",
     "text": [
      "[2, 3, 4]\n"
     ]
    }
   ],
   "source": [
    "add_one_lambda =[]\n",
    "add_func= lambda x:add_one_lambda.append(x+1)   # x를 입력받아 숫자 1을 더하고 그 값을 리스트에 추가\n",
    "for x in [1,2,3]:\n",
    "    add_func(x)\n",
    "\n",
    "print(add_one_lambda)"
   ]
  },
  {
   "cell_type": "code",
   "execution_count": 20,
   "metadata": {},
   "outputs": [
    {
     "name": "stdout",
     "output_type": "stream",
     "text": [
      "5\n"
     ]
    }
   ],
   "source": [
    "new_add_func= lambda x, y:x+y\n",
    "answer = new_add_func(2,3)\n",
    "print(answer)"
   ]
  },
  {
   "attachments": {},
   "cell_type": "markdown",
   "metadata": {},
   "source": [
    "파이썬 내장 함수<br/>\n",
    ": sum, max, min, len, enumerate, range, list, eval, map, filter, round, reversed, sorted, zip "
   ]
  },
  {
   "cell_type": "code",
   "execution_count": 5,
   "metadata": {},
   "outputs": [
    {
     "name": "stdout",
     "output_type": "stream",
     "text": [
      "15\n",
      "5\n",
      "1\n",
      "5\n"
     ]
    }
   ],
   "source": [
    "# sum 함수\n",
    "numbers = [1,2,3,4,5]\n",
    "print(sum(numbers))\n",
    "\n",
    "# max 함수\n",
    "print(max(numbers))\n",
    "\n",
    "# min 함수\n",
    "print(min(numbers))\n",
    "\n",
    "# len 함수\n",
    "print(len(numbers))"
   ]
  },
  {
   "cell_type": "code",
   "execution_count": 6,
   "metadata": {},
   "outputs": [
    {
     "name": "stdout",
     "output_type": "stream",
     "text": [
      "0 1\n",
      "1 2\n",
      "2 3\n",
      "3 4\n",
      "4 5\n"
     ]
    }
   ],
   "source": [
    "# enumerate 함수 : 개별 원소를 인덱스 숫자와 반환 (i:인덱스, num:원소값)\n",
    "for i, num in enumerate(numbers):\n",
    "    print(i, num)\n"
   ]
  },
  {
   "cell_type": "code",
   "execution_count": 7,
   "metadata": {},
   "outputs": [
    {
     "name": "stdout",
     "output_type": "stream",
     "text": [
      "range(0, 10)\n",
      "[1, 2, 3, 4, 5, 6, 7, 8, 9]\n",
      "[1, 2, 3, 4, 5]\n"
     ]
    }
   ],
   "source": [
    "# range 함수\n",
    "print(range(10))\n",
    "\n",
    "# list 함수\n",
    "print(list(range(1,10)))\n",
    "\n",
    "# eval 함수 : 문자열을 입력받아 파이썬 코드로 변환하여 실행\n",
    "eval('print(numbers)')\n",
    "\n"
   ]
  },
  {
   "cell_type": "code",
   "execution_count": 10,
   "metadata": {},
   "outputs": [
    {
     "name": "stdout",
     "output_type": "stream",
     "text": [
      "[2, 3, 4, 5, 6]\n"
     ]
    }
   ],
   "source": [
    "# map 함수\n",
    "add_one = lambda x:x+1\n",
    "results = map(add_one, numbers)\n",
    "\n",
    "print(list(results))"
   ]
  },
  {
   "cell_type": "code",
   "execution_count": 13,
   "metadata": {},
   "outputs": [
    {
     "name": "stdout",
     "output_type": "stream",
     "text": [
      "[2, 4]\n"
     ]
    }
   ],
   "source": [
    "# filter 함수\n",
    "even_num = lambda x:x%2==0\n",
    "results = filter(even_num, numbers)\n",
    "\n",
    "print(list(results))"
   ]
  },
  {
   "cell_type": "code",
   "execution_count": 16,
   "metadata": {},
   "outputs": [
    {
     "name": "stdout",
     "output_type": "stream",
     "text": [
      "[5, 4, 3, 2, 1]\n"
     ]
    }
   ],
   "source": [
    "# reversed 함수\n",
    "numbers_reversed = reversed(numbers)\n",
    "print(list(numbers_reversed))"
   ]
  },
  {
   "cell_type": "code",
   "execution_count": 17,
   "metadata": {},
   "outputs": [
    {
     "data": {
      "text/plain": [
       "[1, 2, 3]"
      ]
     },
     "execution_count": 17,
     "metadata": {},
     "output_type": "execute_result"
    }
   ],
   "source": [
    "# sorted 함수\n",
    "sorted([3,2,1])"
   ]
  },
  {
   "cell_type": "code",
   "execution_count": 18,
   "metadata": {},
   "outputs": [
    {
     "name": "stdout",
     "output_type": "stream",
     "text": [
      "[('a', 1), ('b', 2), ('c', 3)]\n"
     ]
    }
   ],
   "source": [
    "# zip 함수\n",
    "chars = ['a','b','c']\n",
    "nums = [1,2,3]\n",
    "pairs = zip(chars, nums)\n",
    "\n",
    "print(list(pairs))"
   ]
  },
  {
   "attachments": {},
   "cell_type": "markdown",
   "metadata": {},
   "source": [
    "클래스"
   ]
  },
  {
   "cell_type": "code",
   "execution_count": 1,
   "metadata": {},
   "outputs": [
    {
     "data": {
      "text/plain": [
       "3"
      ]
     },
     "execution_count": 1,
     "metadata": {},
     "output_type": "execute_result"
    }
   ],
   "source": [
    "def add(num1, num2):\n",
    "  return num1 + num2\n",
    "\n",
    "add(1,2)"
   ]
  },
  {
   "cell_type": "code",
   "execution_count": 2,
   "metadata": {},
   "outputs": [
    {
     "name": "stdout",
     "output_type": "stream",
     "text": [
      "1 2 0\n"
     ]
    }
   ],
   "source": [
    "class Calculator:\n",
    "  def __init__(self, num1, num2):     # self :클래스 객체 자신\n",
    "    self.num1 = num1\n",
    "    self.num2 = num2\n",
    "    self.result = 0 \n",
    "  \n",
    "  def add(self):\n",
    "    self.result = self.num1 + self.num2\n",
    "    return self.result               \n",
    "    # self.result는 __init__함수에서 0으로 초기화 \n",
    "\n",
    "cal = Calculator(1,2)\n",
    "print(cal.num1, cal.num2, cal.result)"
   ]
  },
  {
   "cell_type": "code",
   "execution_count": 4,
   "metadata": {},
   "outputs": [
    {
     "data": {
      "text/plain": [
       "3"
      ]
     },
     "execution_count": 4,
     "metadata": {},
     "output_type": "execute_result"
    }
   ],
   "source": [
    "cal.add()\n",
    "# self.num1과 self.num2를 더한 결과를 self.result 변수에 저장"
   ]
  },
  {
   "cell_type": "code",
   "execution_count": 3,
   "metadata": {},
   "outputs": [
    {
     "data": {
      "text/plain": [
       "0"
      ]
     },
     "execution_count": 3,
     "metadata": {},
     "output_type": "execute_result"
    }
   ],
   "source": [
    "cal.result\n",
    "# cal 클래스 객체의 result 속성값을 확인"
   ]
  },
  {
   "cell_type": "code",
   "execution_count": 5,
   "metadata": {},
   "outputs": [
    {
     "name": "stdout",
     "output_type": "stream",
     "text": [
      "1 2 0\n"
     ]
    }
   ],
   "source": [
    "# 사칙연산이 가능한 메소드 설정\n",
    "class Calculator:\n",
    "\n",
    "  def __init__(self, num1, num2):\n",
    "    self.num1 = num1\n",
    "    self.num2 = num2\n",
    "    self.result = 0\n",
    "\n",
    "  def add(self):\n",
    "    self.result = self.num1 + self.num2\n",
    "    return self.result\n",
    "\n",
    "  def subtract(self):\n",
    "    self.result = self.num1 - self.num2\n",
    "    return self.result\n",
    "\n",
    "  def multiply(self):\n",
    "    self.result = self.num1 * self.num2\n",
    "    return self.result\n",
    "\n",
    "  def divide(self):\n",
    "    self.result = self.num1 / self.num2\n",
    "    return self.result\n",
    "  \n",
    "  def change(self, num1, num2):\n",
    "    self.num1 = num1\n",
    "    self.num2 = num2\n",
    "    print(\"num1:\", self.num1)\n",
    "    print(\"num2:\", self.num2)\n",
    "\n",
    "cal2 = Calculator(1,2)\n",
    "print(cal2.num1, cal2.num2, cal2.result)"
   ]
  },
  {
   "cell_type": "code",
   "execution_count": 6,
   "metadata": {},
   "outputs": [
    {
     "name": "stdout",
     "output_type": "stream",
     "text": [
      "3\n",
      "-1\n",
      "2\n",
      "0.5\n"
     ]
    }
   ],
   "source": [
    "print(cal2.add())\n",
    "print(cal2.subtract())\n",
    "print(cal2.multiply())\n",
    "print(cal2.divide())"
   ]
  },
  {
   "cell_type": "code",
   "execution_count": 7,
   "metadata": {},
   "outputs": [
    {
     "name": "stdout",
     "output_type": "stream",
     "text": [
      "num1: 3\n",
      "num2: 2\n"
     ]
    },
    {
     "data": {
      "text/plain": [
       "5"
      ]
     },
     "execution_count": 7,
     "metadata": {},
     "output_type": "execute_result"
    }
   ],
   "source": [
    "cal2.change(3,2)\n",
    "cal2.add()"
   ]
  }
 ],
 "metadata": {
  "kernelspec": {
   "display_name": "base",
   "language": "python",
   "name": "python3"
  },
  "language_info": {
   "codemirror_mode": {
    "name": "ipython",
    "version": 3
   },
   "file_extension": ".py",
   "mimetype": "text/x-python",
   "name": "python",
   "nbconvert_exporter": "python",
   "pygments_lexer": "ipython3",
   "version": "3.10.11"
  },
  "orig_nbformat": 4
 },
 "nbformat": 4,
 "nbformat_minor": 2
}
