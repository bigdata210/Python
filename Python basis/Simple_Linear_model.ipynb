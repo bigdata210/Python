{
  "nbformat": 4,
  "nbformat_minor": 0,
  "metadata": {
    "colab": {
      "provenance": [],
      "mount_file_id": "1WcE9DGPhr5jgsiKEU2a1B54g5Xwn0Xbs",
      "authorship_tag": "ABX9TyOUn6rIzPnb4CGZAf9yz5oe",
      "include_colab_link": true
    },
    "kernelspec": {
      "name": "python3",
      "display_name": "Python 3"
    },
    "language_info": {
      "name": "python"
    }
  },
  "cells": [
    {
      "cell_type": "markdown",
      "metadata": {
        "id": "view-in-github",
        "colab_type": "text"
      },
      "source": [
        "<a href=\"https://colab.research.google.com/github/bigdata210/Python/blob/main/Python%20basis/Simple_Linear_model.ipynb\" target=\"_parent\"><img src=\"https://colab.research.google.com/assets/colab-badge.svg\" alt=\"Open In Colab\"/></a>"
      ]
    },
    {
      "cell_type": "code",
      "execution_count": null,
      "metadata": {
        "colab": {
          "base_uri": "https://localhost:8080/"
        },
        "id": "byNC1Mi75ITT",
        "outputId": "40dc2d51-ad57-4dc3-b554-bac946237e57"
      },
      "outputs": [
        {
          "output_type": "stream",
          "name": "stdout",
          "text": [
            "/content/drive/MyDrive/2023/kaggle/AMP®-Parkinson's Disease Progression Prediction/\n"
          ]
        }
      ],
      "source": [
        "PATH_DATA = \"/content/drive/MyDrive/2023/kaggle/AMP®-Parkinson's Disease Progression Prediction/\"\n",
        "print(PATH_DATA)"
      ]
    },
    {
      "cell_type": "code",
      "source": [
        "# 라이브러리 활성화\n",
        "import numpy as np\n",
        "import pandas as pd\n",
        "import matplotlib.pyplot as plt\n",
        "import seaborn as sns\n",
        "# Gradient Boosting Model \n",
        "import lightgbm as lgb\n",
        "# 시간이 걸리는 작업의 경우 상태 확인\n",
        "import tqdm\n",
        "# 정규 표현의 패턴을 이용한 문자열 추출, 치환, 분할 가능\n",
        "import re\n",
        "# 반복되는 데이터 처리 기능 / 순열\n",
        "from itertools import product\n",
        "# 모듈 고차 함수 사용시 이용\n",
        "from functools import reduce\n",
        "\n",
        "# 상황에 다라 경고 메세지 사용\n",
        "import warnings\n",
        "\n",
        "\n",
        "warnings.filterwarnings('ignore', category=UserWarning)\n",
        "warnings.filterwarnings('ignore', category=DeprecationWarning)\n",
        "warnings.filterwarnings('ignore', category=FutureWarning)\n",
        "\n",
        "pd.set_option('display.float_format', lambda x:'%.3f' %x)"
      ],
      "metadata": {
        "id": "iqiFwLvG53D6"
      },
      "execution_count": null,
      "outputs": []
    },
    {
      "cell_type": "markdown",
      "source": [
        "## 데이터 불러오기\n",
        "\n"
      ],
      "metadata": {
        "id": "EM3jMBXP_F1O"
      }
    },
    {
      "cell_type": "code",
      "source": [
        "target_data = pd.read_csv(PATH_DATA + 'train_clinical_data.csv')\n",
        "sub_target = pd.read_csv(PATH_DATA + 'supplemental_clinical_data.csv')\n",
        "peptides_data = pd.read_csv(PATH_DATA + 'train_peptides.csv')\n",
        "proteins_data = pd.read_csv(PATH_DATA + 'train_proteins.csv')\n",
        "\n",
        "# 데이터 컬럼 확인\n",
        "target_data.shape, peptides_data.shape, proteins_data.shape"
      ],
      "metadata": {
        "colab": {
          "base_uri": "https://localhost:8080/"
        },
        "id": "VEjP50ZFAKfb",
        "outputId": "c8b2b394-7e34-4215-ec41-0b1eca09d1ce"
      },
      "execution_count": null,
      "outputs": [
        {
          "output_type": "execute_result",
          "data": {
            "text/plain": [
              "((2615, 8), (981834, 6), (232741, 5))"
            ]
          },
          "metadata": {},
          "execution_count": 57
        }
      ]
    },
    {
      "cell_type": "code",
      "source": [
        "# target 데이터 합치기\n",
        "target_data = pd.concat([target_data, sub_target], axis=0 ).reset_index(drop=True)\n",
        "\n",
        "# visit_month에서 5월 제외 후 복사\n",
        "target_data = target_data[target_data.visit_month !=5].copy()\n",
        "\n",
        "# 데이터 속성 이해\n",
        "target_data.shape, target_data.visit_id.nunique(), target_data.patient_id.nunique(), target_data.visit_month.nunique()"
      ],
      "metadata": {
        "colab": {
          "base_uri": "https://localhost:8080/"
        },
        "id": "oFHIxb7yAzkD",
        "outputId": "383a5162-c7ec-485e-e9da-248483b33555"
      },
      "execution_count": null,
      "outputs": [
        {
          "output_type": "execute_result",
          "data": {
            "text/plain": [
              "((4720, 8), 4720, 1019, 17)"
            ]
          },
          "metadata": {},
          "execution_count": 58
        }
      ]
    },
    {
      "cell_type": "code",
      "source": [
        "# upd23b_clinical_state_on_medication의 빈 값을 unknown 변경.\n",
        "target_data.upd23b_clinical_state_on_medication.fillna('unknown', inplace =True)"
      ],
      "metadata": {
        "id": "OcOPGxyLC-zm"
      },
      "execution_count": null,
      "outputs": []
    },
    {
      "cell_type": "code",
      "source": [
        "# na 갯수 확인\n",
        "target_data.isna().sum()\n",
        "\n",
        "## upd23b_clinical_state_on_medication에서 na가 없다는 것을 확인할 수 있음."
      ],
      "metadata": {
        "colab": {
          "base_uri": "https://localhost:8080/"
        },
        "id": "59M4K4n0DJ48",
        "outputId": "07d1f222-d29e-437f-cc05-542fd8188876"
      },
      "execution_count": null,
      "outputs": [
        {
          "output_type": "execute_result",
          "data": {
            "text/plain": [
              "visit_id                                  0\n",
              "patient_id                                0\n",
              "visit_month                               0\n",
              "updrs_1                                  96\n",
              "updrs_2                                  98\n",
              "updrs_3                                  30\n",
              "updrs_4                                1863\n",
              "upd23b_clinical_state_on_medication       0\n",
              "dtype: int64"
            ]
          },
          "metadata": {},
          "execution_count": 60
        }
      ]
    },
    {
      "cell_type": "code",
      "source": [
        "# 묶어줄 컬럼 리스트로 저장\n",
        "id_cols =['visit_id', 'patient_id', 'visit_month']\n",
        "target_cols = ['updrs_1', 'updrs_2', 'updrs_3', 'updrs_4']\n",
        "month_list = [0, 6, 12, 24]"
      ],
      "metadata": {
        "id": "ypBQ_Nq8DQnF"
      },
      "execution_count": null,
      "outputs": []
    },
    {
      "cell_type": "markdown",
      "source": [
        "- test data에서는 약물을 사용했는지 여부를 알 수 없으므로 약물 사용여부 알 수 없는 것으로 채워서 영향을 확인해야 함!\n"
      ],
      "metadata": {
        "id": "WX2BrhmSDbx6"
      }
    },
    {
      "cell_type": "code",
      "source": [
        "def create_target_features(target_data, test=None):\n",
        "  if test is None:\n",
        "  # test가 없으면, test1을 생성하고,\n",
        "    test1 = target_data[['patient_id','visit_month','upd23b_clinical_state_on_medication']].copy()\n",
        "  # test1에 'upd23b_clinical_state_on_medication'의 값을 unknown로 채워라.\n",
        "    test1['upd23b_clinical_state_on_medication'] = test1['upd23b_clinical_state_on_medication'].fillna('unknown')\n",
        "  # test가 있으면 test1에 복사하고,\n",
        "  else:\n",
        "    test1 = test.copy()\n",
        "    # 컬럼 안에 속해있지 않으면, 'upd23b_clinical_state_on_medication'를 unknown로 채워라.\n",
        "    if 'upd23b_clinical_state_on_medication' not in test1.columns.tolist():\n",
        "     test1['upd23b_clinical_state_on_medication'] = 'unknown'\n",
        "    # 컬럼 안에 속해 있으면 unknown으로 채워넣어라.\n",
        "    else:\n",
        "     test1['upd23b_clinical_state_on_medication'] =test1['upd23b_clinical_state_on_medication'].fillna('unknown')\n",
        "    # 중복데이터를 제거하라.\n",
        "    test1 = test1[['patient_id', 'visit_month', 'upd23b_clinical_state_on_medication']].drop_duplicates().copy()\n",
        "    \n",
        "    patients = test1.patient_id.unique()\n",
        "    visit_months=test1.visit_month.unique()\n",
        "\n",
        "    test1['visit_month_orig'] = test1['visit_month']\n",
        "\n",
        "    test_data = pd.DataFrame()\n",
        "    for patient in patients:\n",
        "      for month in [0,6,12,24]:\n",
        "         p_data = test1[test1['patient_id'] ==patient].copy()\n",
        "         p.data['visit_month'] = p_data['visit_month'].values + month\n",
        "         test_data = pd.concat([test_data,p_data], axis=0)\n",
        "      test1 = test_data.copy()\n",
        "\n",
        "    # 결측값을 방문_월 및 약물별 중앙값으로 바꾸기\n",
        "    target_data1 = target_data.copy()\n",
        "    tmeds = target_data1.groupby(['visit_month','upd23b_clinical_state_on_medication'],group_keys =False)[target_cols].apply(lambda x: x.fillna(x.median())).sort_index()\n",
        "    target_data1 = target_data1[['patient_id','visit_month','upd23b_clinical_state_on_medication']].join(tmeds)\n",
        "\n",
        "    # 그룹 기능 구축\n",
        "    all_grp_cols = [['visit_month'],['upd23b_clinical_state_on_medication']] + [['visit_month','upd23b_clinical_state_on_medication']]\n",
        "    \n",
        "    # 중복값 제거\n",
        "    target_data2 = target_data1[['visit_month','upd23b_clinical_state_on_medication']].drop_duplicates()\n",
        "    for grp_col in all_grp_cols:    \n",
        "        temp = target_data1.groupby(grp_col)[target_cols].agg(['min','max','mean','median','sum','std'])\n",
        "        temp.columns = [i+'_' + j + '_'+ '_'.join(grp_col) for i,j in temp.columns]\n",
        "        target_data2 = target_data2.join(temp,on = grp_col)\n",
        "        target_data2  = target_data2.join(target_data1.groupby(grp_col)['updrs_1'].count().rename('_'.join(grp_col)+'_count'),\n",
        "                                          on = grp_col)\n",
        "\n",
        "    # 약물 복용 플래그\n",
        "    # 각 컬럼에서 값이 각각 'unknown','Off','On'인 경우 1, 그렇지 않은 경우 0으로 간주\n",
        "    test1['med_unknown'] = (test1['upd23b_clinical_state_on_medication'] == 'unknown').astype(int)\n",
        "    test1['med_off'] = (test1['upd23b_clinical_state_on_medication'] == 'Off').astype(int)\n",
        "    test1['med_on'] = (test1['upd23b_clinical_state_on_medication'] == 'On').astype(int)\n",
        "    \n",
        "    model_data = test1.merge(target_data2,on = ['visit_month','upd23b_clinical_state_on_medication'],how = 'inner').drop(columns = 'upd23b_clinical_state_on_medication')\n",
        "    # feature_cols에서 컬럼(환자ID 제외)후 리스트로 넣어라.\n",
        "    feature_cols = model_data.drop(columns = ['patient_id']).columns.tolist()\n"
      ],
      "metadata": {
        "id": "yuQOASd8DZpl"
      },
      "execution_count": null,
      "outputs": []
    },
    {
      "cell_type": "code",
      "source": [
        "target_data"
      ],
      "metadata": {
        "colab": {
          "base_uri": "https://localhost:8080/",
          "height": 467
        },
        "id": "MRsrdzhIsyWz",
        "outputId": "e74f385c-a90d-4e1b-d76c-9e6fca69922f"
      },
      "execution_count": null,
      "outputs": [
        {
          "output_type": "execute_result",
          "data": {
            "text/plain": [
              "      visit_id  patient_id  visit_month  updrs_1  updrs_2  updrs_3  updrs_4  \\\n",
              "0         55_0          55            0   10.000    6.000   15.000      NaN   \n",
              "1         55_3          55            3   10.000    7.000   25.000      NaN   \n",
              "2         55_6          55            6    8.000   10.000   34.000      NaN   \n",
              "3         55_9          55            9    8.000    9.000   30.000    0.000   \n",
              "4        55_12          55           12   10.000   10.000   41.000    0.000   \n",
              "...        ...         ...          ...      ...      ...      ...      ...   \n",
              "4832  65303_36       65303           36    4.000    1.000   26.000    0.000   \n",
              "4833   65382_0       65382            0      NaN      NaN    0.000      NaN   \n",
              "4834   65405_0       65405            0    5.000   16.000   31.000    0.000   \n",
              "4836   65530_0       65530            0   10.000    6.000   24.000    0.000   \n",
              "4837  65530_36       65530           36    8.000    4.000   15.000    4.000   \n",
              "\n",
              "     upd23b_clinical_state_on_medication  \n",
              "0                                unknown  \n",
              "1                                unknown  \n",
              "2                                unknown  \n",
              "3                                     On  \n",
              "4                                     On  \n",
              "...                                  ...  \n",
              "4832                             unknown  \n",
              "4833                             unknown  \n",
              "4834                             unknown  \n",
              "4836                             unknown  \n",
              "4837                                  On  \n",
              "\n",
              "[4720 rows x 8 columns]"
            ],
            "text/html": [
              "\n",
              "  <div id=\"df-e7118d35-ced3-4dff-bbfc-e30b3983ca1b\">\n",
              "    <div class=\"colab-df-container\">\n",
              "      <div>\n",
              "<style scoped>\n",
              "    .dataframe tbody tr th:only-of-type {\n",
              "        vertical-align: middle;\n",
              "    }\n",
              "\n",
              "    .dataframe tbody tr th {\n",
              "        vertical-align: top;\n",
              "    }\n",
              "\n",
              "    .dataframe thead th {\n",
              "        text-align: right;\n",
              "    }\n",
              "</style>\n",
              "<table border=\"1\" class=\"dataframe\">\n",
              "  <thead>\n",
              "    <tr style=\"text-align: right;\">\n",
              "      <th></th>\n",
              "      <th>visit_id</th>\n",
              "      <th>patient_id</th>\n",
              "      <th>visit_month</th>\n",
              "      <th>updrs_1</th>\n",
              "      <th>updrs_2</th>\n",
              "      <th>updrs_3</th>\n",
              "      <th>updrs_4</th>\n",
              "      <th>upd23b_clinical_state_on_medication</th>\n",
              "    </tr>\n",
              "  </thead>\n",
              "  <tbody>\n",
              "    <tr>\n",
              "      <th>0</th>\n",
              "      <td>55_0</td>\n",
              "      <td>55</td>\n",
              "      <td>0</td>\n",
              "      <td>10.000</td>\n",
              "      <td>6.000</td>\n",
              "      <td>15.000</td>\n",
              "      <td>NaN</td>\n",
              "      <td>unknown</td>\n",
              "    </tr>\n",
              "    <tr>\n",
              "      <th>1</th>\n",
              "      <td>55_3</td>\n",
              "      <td>55</td>\n",
              "      <td>3</td>\n",
              "      <td>10.000</td>\n",
              "      <td>7.000</td>\n",
              "      <td>25.000</td>\n",
              "      <td>NaN</td>\n",
              "      <td>unknown</td>\n",
              "    </tr>\n",
              "    <tr>\n",
              "      <th>2</th>\n",
              "      <td>55_6</td>\n",
              "      <td>55</td>\n",
              "      <td>6</td>\n",
              "      <td>8.000</td>\n",
              "      <td>10.000</td>\n",
              "      <td>34.000</td>\n",
              "      <td>NaN</td>\n",
              "      <td>unknown</td>\n",
              "    </tr>\n",
              "    <tr>\n",
              "      <th>3</th>\n",
              "      <td>55_9</td>\n",
              "      <td>55</td>\n",
              "      <td>9</td>\n",
              "      <td>8.000</td>\n",
              "      <td>9.000</td>\n",
              "      <td>30.000</td>\n",
              "      <td>0.000</td>\n",
              "      <td>On</td>\n",
              "    </tr>\n",
              "    <tr>\n",
              "      <th>4</th>\n",
              "      <td>55_12</td>\n",
              "      <td>55</td>\n",
              "      <td>12</td>\n",
              "      <td>10.000</td>\n",
              "      <td>10.000</td>\n",
              "      <td>41.000</td>\n",
              "      <td>0.000</td>\n",
              "      <td>On</td>\n",
              "    </tr>\n",
              "    <tr>\n",
              "      <th>...</th>\n",
              "      <td>...</td>\n",
              "      <td>...</td>\n",
              "      <td>...</td>\n",
              "      <td>...</td>\n",
              "      <td>...</td>\n",
              "      <td>...</td>\n",
              "      <td>...</td>\n",
              "      <td>...</td>\n",
              "    </tr>\n",
              "    <tr>\n",
              "      <th>4832</th>\n",
              "      <td>65303_36</td>\n",
              "      <td>65303</td>\n",
              "      <td>36</td>\n",
              "      <td>4.000</td>\n",
              "      <td>1.000</td>\n",
              "      <td>26.000</td>\n",
              "      <td>0.000</td>\n",
              "      <td>unknown</td>\n",
              "    </tr>\n",
              "    <tr>\n",
              "      <th>4833</th>\n",
              "      <td>65382_0</td>\n",
              "      <td>65382</td>\n",
              "      <td>0</td>\n",
              "      <td>NaN</td>\n",
              "      <td>NaN</td>\n",
              "      <td>0.000</td>\n",
              "      <td>NaN</td>\n",
              "      <td>unknown</td>\n",
              "    </tr>\n",
              "    <tr>\n",
              "      <th>4834</th>\n",
              "      <td>65405_0</td>\n",
              "      <td>65405</td>\n",
              "      <td>0</td>\n",
              "      <td>5.000</td>\n",
              "      <td>16.000</td>\n",
              "      <td>31.000</td>\n",
              "      <td>0.000</td>\n",
              "      <td>unknown</td>\n",
              "    </tr>\n",
              "    <tr>\n",
              "      <th>4836</th>\n",
              "      <td>65530_0</td>\n",
              "      <td>65530</td>\n",
              "      <td>0</td>\n",
              "      <td>10.000</td>\n",
              "      <td>6.000</td>\n",
              "      <td>24.000</td>\n",
              "      <td>0.000</td>\n",
              "      <td>unknown</td>\n",
              "    </tr>\n",
              "    <tr>\n",
              "      <th>4837</th>\n",
              "      <td>65530_36</td>\n",
              "      <td>65530</td>\n",
              "      <td>36</td>\n",
              "      <td>8.000</td>\n",
              "      <td>4.000</td>\n",
              "      <td>15.000</td>\n",
              "      <td>4.000</td>\n",
              "      <td>On</td>\n",
              "    </tr>\n",
              "  </tbody>\n",
              "</table>\n",
              "<p>4720 rows × 8 columns</p>\n",
              "</div>\n",
              "      <button class=\"colab-df-convert\" onclick=\"convertToInteractive('df-e7118d35-ced3-4dff-bbfc-e30b3983ca1b')\"\n",
              "              title=\"Convert this dataframe to an interactive table.\"\n",
              "              style=\"display:none;\">\n",
              "        \n",
              "  <svg xmlns=\"http://www.w3.org/2000/svg\" height=\"24px\"viewBox=\"0 0 24 24\"\n",
              "       width=\"24px\">\n",
              "    <path d=\"M0 0h24v24H0V0z\" fill=\"none\"/>\n",
              "    <path d=\"M18.56 5.44l.94 2.06.94-2.06 2.06-.94-2.06-.94-.94-2.06-.94 2.06-2.06.94zm-11 1L8.5 8.5l.94-2.06 2.06-.94-2.06-.94L8.5 2.5l-.94 2.06-2.06.94zm10 10l.94 2.06.94-2.06 2.06-.94-2.06-.94-.94-2.06-.94 2.06-2.06.94z\"/><path d=\"M17.41 7.96l-1.37-1.37c-.4-.4-.92-.59-1.43-.59-.52 0-1.04.2-1.43.59L10.3 9.45l-7.72 7.72c-.78.78-.78 2.05 0 2.83L4 21.41c.39.39.9.59 1.41.59.51 0 1.02-.2 1.41-.59l7.78-7.78 2.81-2.81c.8-.78.8-2.07 0-2.86zM5.41 20L4 18.59l7.72-7.72 1.47 1.35L5.41 20z\"/>\n",
              "  </svg>\n",
              "      </button>\n",
              "      \n",
              "  <style>\n",
              "    .colab-df-container {\n",
              "      display:flex;\n",
              "      flex-wrap:wrap;\n",
              "      gap: 12px;\n",
              "    }\n",
              "\n",
              "    .colab-df-convert {\n",
              "      background-color: #E8F0FE;\n",
              "      border: none;\n",
              "      border-radius: 50%;\n",
              "      cursor: pointer;\n",
              "      display: none;\n",
              "      fill: #1967D2;\n",
              "      height: 32px;\n",
              "      padding: 0 0 0 0;\n",
              "      width: 32px;\n",
              "    }\n",
              "\n",
              "    .colab-df-convert:hover {\n",
              "      background-color: #E2EBFA;\n",
              "      box-shadow: 0px 1px 2px rgba(60, 64, 67, 0.3), 0px 1px 3px 1px rgba(60, 64, 67, 0.15);\n",
              "      fill: #174EA6;\n",
              "    }\n",
              "\n",
              "    [theme=dark] .colab-df-convert {\n",
              "      background-color: #3B4455;\n",
              "      fill: #D2E3FC;\n",
              "    }\n",
              "\n",
              "    [theme=dark] .colab-df-convert:hover {\n",
              "      background-color: #434B5C;\n",
              "      box-shadow: 0px 1px 3px 1px rgba(0, 0, 0, 0.15);\n",
              "      filter: drop-shadow(0px 1px 2px rgba(0, 0, 0, 0.3));\n",
              "      fill: #FFFFFF;\n",
              "    }\n",
              "  </style>\n",
              "\n",
              "      <script>\n",
              "        const buttonEl =\n",
              "          document.querySelector('#df-e7118d35-ced3-4dff-bbfc-e30b3983ca1b button.colab-df-convert');\n",
              "        buttonEl.style.display =\n",
              "          google.colab.kernel.accessAllowed ? 'block' : 'none';\n",
              "\n",
              "        async function convertToInteractive(key) {\n",
              "          const element = document.querySelector('#df-e7118d35-ced3-4dff-bbfc-e30b3983ca1b');\n",
              "          const dataTable =\n",
              "            await google.colab.kernel.invokeFunction('convertToInteractive',\n",
              "                                                     [key], {});\n",
              "          if (!dataTable) return;\n",
              "\n",
              "          const docLinkHtml = 'Like what you see? Visit the ' +\n",
              "            '<a target=\"_blank\" href=https://colab.research.google.com/notebooks/data_table.ipynb>data table notebook</a>'\n",
              "            + ' to learn more about interactive tables.';\n",
              "          element.innerHTML = '';\n",
              "          dataTable['output_type'] = 'display_data';\n",
              "          await google.colab.output.renderOutput(dataTable, element);\n",
              "          const docLink = document.createElement('div');\n",
              "          docLink.innerHTML = docLinkHtml;\n",
              "          element.appendChild(docLink);\n",
              "        }\n",
              "      </script>\n",
              "    </div>\n",
              "  </div>\n",
              "  "
            ]
          },
          "metadata": {},
          "execution_count": 67
        }
      ]
    },
    {
      "cell_type": "code",
      "source": [
        "create_target_features(target_data)"
      ],
      "metadata": {
        "id": "VwgH92owsqdq"
      },
      "execution_count": null,
      "outputs": []
    },
    {
      "cell_type": "code",
      "source": [
        "# 기능 적용\n",
        "model_data, feature_cols = create_target_features(target_data)\n",
        "model_data.shape, len(feature_cols)"
      ],
      "metadata": {
        "colab": {
          "base_uri": "https://localhost:8080/",
          "height": 211
        },
        "id": "GhG28ln4s6Nm",
        "outputId": "1569c5a3-1100-41e8-f31f-54458ce61788"
      },
      "execution_count": null,
      "outputs": [
        {
          "output_type": "error",
          "ename": "NameError",
          "evalue": "ignored",
          "traceback": [
            "\u001b[0;31m---------------------------------------------------------------------------\u001b[0m",
            "\u001b[0;31mNameError\u001b[0m                                 Traceback (most recent call last)",
            "\u001b[0;32m<ipython-input-1-cfe372fbfdd9>\u001b[0m in \u001b[0;36m<cell line: 2>\u001b[0;34m()\u001b[0m\n\u001b[1;32m      1\u001b[0m \u001b[0;31m# 기능 적용\u001b[0m\u001b[0;34m\u001b[0m\u001b[0;34m\u001b[0m\u001b[0m\n\u001b[0;32m----> 2\u001b[0;31m \u001b[0mmodel_data\u001b[0m\u001b[0;34m,\u001b[0m \u001b[0mfeature_cols\u001b[0m \u001b[0;34m=\u001b[0m \u001b[0mcreate_target_features\u001b[0m\u001b[0;34m(\u001b[0m\u001b[0mtarget_data\u001b[0m\u001b[0;34m)\u001b[0m\u001b[0;34m\u001b[0m\u001b[0;34m\u001b[0m\u001b[0m\n\u001b[0m\u001b[1;32m      3\u001b[0m \u001b[0mmodel_data\u001b[0m\u001b[0;34m.\u001b[0m\u001b[0mshape\u001b[0m\u001b[0;34m,\u001b[0m \u001b[0mlen\u001b[0m\u001b[0;34m(\u001b[0m\u001b[0mfeature_cols\u001b[0m\u001b[0;34m)\u001b[0m\u001b[0;34m\u001b[0m\u001b[0;34m\u001b[0m\u001b[0m\n",
            "\u001b[0;31mNameError\u001b[0m: name 'create_target_features' is not defined"
          ]
        }
      ]
    },
    {
      "cell_type": "code",
      "source": [
        "# model 데이터에서 patient_id, visit_month의 중복 제거값을 제거하고 형태 확인 \n",
        "model[['patient_id','visit_month']].drop_duplicates().shape, model.shape\n",
        "\n",
        "# ((4720, 2), (4720, 84)) \n",
        "# 2행의 중복값이 있음."
      ],
      "metadata": {
        "id": "X1_UnwtJtCw2"
      },
      "execution_count": null,
      "outputs": []
    },
    {
      "cell_type": "code",
      "source": [
        "# 평가 지표\n",
        "def smape(y_true, y_pred):\n",
        "    y_true = np.expm1(y_true) +1\n",
        "    y_pred = np.expm1(y_pred) +1\n",
        "    \n",
        "    return 100/len(y_true) * np.sum(2* np.abs(y_pred - y_true) / (np.abs(y_true) + np.abs(y_pred)))\n",
        "\n",
        "# y_true : e^y_true +1\n",
        "# y_pred : e^y_pred +1"
      ],
      "metadata": {
        "id": "9wOKQLsyVOmz"
      },
      "execution_count": null,
      "outputs": []
    },
    {
      "cell_type": "code",
      "source": [
        "# 모델링할 라이브러리 활성화\n",
        "from sklearn.preprocessing import MinMaxScaler, RobustScaler, StandardScaler\n",
        "\n",
        "from sklearn.model_selection import GroupKFold, GroupShuffleSplit\n",
        "from sklearn.svm import SVR, LinearSVR\n",
        "from sklearn.linear_model import Ridge, Lasso, ElasticNet, LinearRegression, PoissonRegreesion\n",
        "from sklearn.model_selection import cross_validata, cross_val_predict\n",
        "from sklearn.metrics import make_scorer\n",
        "from sklearn.pipeline import Pipeline\n",
        "from sklearn.ensemble import BaggingRegressor, GradientBoostingRegressor, StackingRegressor\n",
        "import lightgbm as lgb"
      ],
      "metadata": {
        "id": "7FnYb-owUh14"
      },
      "execution_count": null,
      "outputs": []
    },
    {
      "cell_type": "code",
      "source": [
        "# 교차 유효성 검사를 위한 점수확인\n",
        "smape_ = make_scorer(smape,greater_is_better=False)"
      ],
      "metadata": {
        "id": "fsCUdMdOp2T9"
      },
      "execution_count": null,
      "outputs": []
    },
    {
      "cell_type": "code",
      "source": [
        "def train_linear_model(model, feature_cols):\n",
        "                  # 회귀분석\n",
        "    lgb_params = { 'objective' : 'regression',\n",
        "                  # 각 Tree에 영향을 미치는 변수 \n",
        "                 'learning_rate': 0.01,\n",
        "                  # Tree의 최대 깊이\n",
        "                 'max_depth': 3,\n",
        "                  # 전체 Tree의 leave 수\n",
        "                 'num_leaves':5,\n",
        "                  # 최종 리프 노드가 되기 위한 레코드 수\n",
        "                 'min_child_samples':25,\n",
        "                  # L1 정규화 적용 값 (클수록 과적합 감소)\n",
        "                 'reg_alpha':25,\n",
        "                  # L2 정규화 적용 값 (클수록 과적합 감속)\n",
        "                 'reg_lambda':25,\n",
        "                  # 반복 수행 트리 개수 지정\n",
        "                 'n_estimators':100,\n",
        "                  # 개별트리 학습 시 선택되는 피처 비율\n",
        "                 'colsample_bytree':0.5,\n",
        "                  # 데이터 샘플링 비율\n",
        "                  'subsample': 0.5,\n",
        "                  # 난수의 시드값을 지정해주는 매개변수 (재현성 보장)\n",
        "                  'random_state':2023}\n",
        "\n",
        "# MinMaxscaler를 사용하여 열 크기 조정하기\n",
        "      # model_data_x : 독립변수를 담은 DataFrame\n",
        "      model_data_x = model_data.copy()\n",
        "      models = {}\n",
        "\n",
        "      gkf = GroupKFold(n_splits = 5)\n",
        "\n",
        "      score_trn = []; score_test = []\n",
        "\n",
        "      for target in target_cols:\n",
        "\n",
        "        # updrs_3의 값이 있다면,\n",
        "        # updrs_3을 찾은 인덱스를 반환하고, 찾지못하면 -1을 반환\n",
        "        if target.find('updrs_3')>=0:\n",
        "          # target의 0의 모든 항목을 pd에서 누락되거나 null값을 나타내는 pd.NA로 바꿈.\n",
        "          y = model_data[target].replace(0,pd.NA).copy()\n",
        "          # 누락된 값 NaN 이나 None이 있는 모든 행을 제거하고 복사\n",
        "          y = model_data[target].dropna().copy()\n",
        "            \n",
        "        else:\n",
        "            y = model_data[target].dropna().copy()\n",
        "        # np.log1p() : 입력값에 1을 더한 후 자연 로그 계산\n",
        "                     #( undefined error를 피하기 위해 1을 더해줌)\n",
        "        y = y.apply(np.log1p).copy()\n",
        "        # y : 종속변수 데이터를 담은 Series\n",
        "        # y의 값을 리스트로 반환하고 model_data_x의 인덱스와 동일\n",
        "        # X는 feature_cols 리스트에 해당하는 독립변수 데이터를 담은 데이터 프레임\n",
        "        X = model_data_x.loc[y.index.tolist(), feature_cols]\n",
        "        # model_data_x에서 'patient_id' 컬럼을 선택 후 y의 인덱스에 해당하는 행을 추출 새로운 Series\n",
        "        # 같은 환자가 여러 행에 나타날 수 있으므로 환자 구분시 사용\n",
        "        groups = model_data_x.loc[y.index.tolist(), 'patient_id']\n",
        "        \n",
        "        # 각 모델은 기능 확장 및 회귀라는 두 가지 처리 단계로 구성된 파이프 라인\n",
        "        # 강력한 scaler가 포함된 선형 지원 벡터 회귀 모델\n",
        "        model1 = Pipeline([('scaler', RobustScaler()),\n",
        "                           ('lsvr', LinearSVR(random_state=2023))])\n",
        "        \n",
        "        # MinMaxscaler가 포함된 푸아송 회귀 모델\n",
        "        model2 = Pipeline([('scaler', MinMaxScaler()),\n",
        "                           ('poisson', PoissonRegressor())])\n",
        "        \n",
        "        # 방사형 기저 함수(RBF), scaler가 있는 서포트 벡터 회귀 모델 \n",
        "        model3 = Pipeline([('scaler', RobustScaler()),\n",
        "                           ('svr_rbf', SVR())])\n",
        "        \n",
        "        # 표준 scaler가 있는 선형 회귀 모델\n",
        "        # 평균을 제거하고 단위 분산으로 scaler하여 입력 특징을 표준화하는데 사용\n",
        "        model4 = Pipeline([('scaler', StandardScaler()),\n",
        "                           ('lr', LinearRegression())])\n",
        "        \n",
        "        model5 = lgb.LGBMRegressor(**lgb_params)                   \n",
        "\n"
      ],
      "metadata": {
        "id": "UGPQzcPFxa_-"
      },
      "execution_count": null,
      "outputs": []
    },
    {
      "cell_type": "code",
      "source": [],
      "metadata": {
        "id": "WuXRLvtRyyjc"
      },
      "execution_count": null,
      "outputs": []
    },
    {
      "cell_type": "markdown",
      "source": [],
      "metadata": {
        "id": "UbrF_RdEgdW0"
      }
    },
    {
      "cell_type": "code",
      "source": [],
      "metadata": {
        "id": "rxghHeSUqMcc"
      },
      "execution_count": null,
      "outputs": []
    }
  ]
}