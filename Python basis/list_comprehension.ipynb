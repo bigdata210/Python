{
 "cells": [
  {
   "attachments": {},
   "cell_type": "markdown",
   "metadata": {},
   "source": [
    "## 리스트 컴프리헨션\n",
    "1. 기본 구조 : 표현식 + for문\n",
    " result = [표현식 for 변수 in 리스트]\n",
    "\n",
    "2. 표현식 + for문 + 조건문\n",
    " result = [표현식 for 변수 in 리스트 조건문]\n",
    "\n",
    "3. 조건문 + for문\n",
    " result = [조건문 for 변수 in 리스트]\n",
    "\n",
    "4. 중첩 for문\n",
    " result = [조건문 for 변수1 in 리스트1 for 변수2 in 리스트2..]\n",
    "\n",
    "5. 중첩 List Comprehension"
   ]
  },
  {
   "cell_type": "code",
   "execution_count": 8,
   "metadata": {},
   "outputs": [
    {
     "name": "stdout",
     "output_type": "stream",
     "text": [
      "[0, 0, 0, 0, 0]\n",
      "[0, 1, 2, 3, 4]\n",
      "[0, 1, 2, 3, 4, 5, 6, 7, 8]\n"
     ]
    }
   ],
   "source": [
    "# 1. 표현식 + for문\n",
    "## 표현식에 변수 또는 상수를 쓰는 경우\n",
    "n=5\n",
    "\n",
    "# n개의 0으로 초기화된 리스트\n",
    "result = [0 for i in range(n)] \n",
    "print(result)\n",
    "\n",
    "# 0 ~ n으로 초기화된 리스트\n",
    "result = [i for i in range(n)] \n",
    "print(result)\n",
    "\n",
    "# array 리스트의 값을 그대로 복사\n",
    "array = [0, 1, 2, 3, 4, 5, 6, 7, 8] \n",
    "result = [ n for n in array]    \n",
    "print(result)"
   ]
  },
  {
   "cell_type": "code",
   "execution_count": 17,
   "metadata": {},
   "outputs": [
    {
     "name": "stdout",
     "output_type": "stream",
     "text": [
      "[16, 25, 36, 49]\n",
      "[4, 13, 6]\n",
      "[4, 0, 1, 2]\n"
     ]
    }
   ],
   "source": [
    "## 표현식에 연산식이나 함수를 쓰는 경우\n",
    "array=[4,5,6,7]\n",
    "\n",
    "# arrary의 제곱을 구하는 리스트\n",
    "result = [n*n for n in array]   \n",
    "print(result)\n",
    "\n",
    "# 문자열 리스트의 각 문자열의 길이를 저장하는 리스트\n",
    "str_array= [\"List\",\"Comprehension\",\"python\"]\n",
    "result = [len(string) for string in str_array]\n",
    "print(result)\n",
    "\n",
    "# 5로 나눈 나머지를 저장하는 리스트 (함수사용)\n",
    "def mod_5 (number):\n",
    "    return number % 5\n",
    "\n",
    "result = [mod_5(n) for n in array]\n",
    "print(result)"
   ]
  },
  {
   "cell_type": "code",
   "execution_count": 15,
   "metadata": {},
   "outputs": [
    {
     "name": "stdout",
     "output_type": "stream",
     "text": [
      "[0, 2, 4, 6, 8]\n",
      "[1, 3, 5, 7, 9]\n",
      "[24, 5, 2]\n"
     ]
    }
   ],
   "source": [
    "#2. 표현식 + for문 + 조건문\n",
    "## 범위 내 짝수만 저장하는 리스트\n",
    "result = [n for n in range(10) if n%2 == 0]\n",
    "print(result)\n",
    "\n",
    "## 범위 내 홀수만 저장하는 리스트\n",
    "result = [n for n in range(10) if n%2 == 1]\n",
    "print(result)\n",
    "\n",
    "## 배열에서 양수만 저장하는 리스트\n",
    "array = [-1, 0, -4, 24, 5, -10, 2]\n",
    "result = [n for n in array if n > 0]\n",
    "print(result)\n",
    "\n",
    "# -> 단, 단일조건문만 사용 가능!\n",
    "#    else, elif 사용 불가!"
   ]
  },
  {
   "cell_type": "code",
   "execution_count": 16,
   "metadata": {},
   "outputs": [
    {
     "name": "stdout",
     "output_type": "stream",
     "text": [
      "[3, 9, 15, 21, 27]\n"
     ]
    }
   ],
   "source": [
    "# if를 여러번 사용 가능 (and 조건)\n",
    "## 3의 배수 중 홀수만 저장하는 리스트\n",
    "result = [n for n in range(30) if n%3 == 0 if n%2 != 0]\n",
    "print(result)"
   ]
  },
  {
   "cell_type": "code",
   "execution_count": 19,
   "metadata": {},
   "outputs": [
    {
     "name": "stdout",
     "output_type": "stream",
     "text": [
      "[0, 0, 0, 24, 5, 0, 2]\n",
      "['odd', 'even', 'even', 'even', 'odd', 'even', 'even']\n"
     ]
    }
   ],
   "source": [
    "# 3. 표현식 + 조건문 + for문\n",
    "## 양수는 그대로, 음수는 0으로 저장하는 리스트\n",
    "array = [-1, 0, -4, 24, 5, -10, 2]\n",
    "result = [n if n > 0 else 0 for n in array]\n",
    "print(result)\n",
    "\n",
    "## 짝수라면 'even', 홀수라면 'odd'로 저장하는 리스트\n",
    "result = ['even' if n%2 == 0 else 'odd' for n in array]\n",
    "print(result)"
   ]
  },
  {
   "cell_type": "code",
   "execution_count": 23,
   "metadata": {},
   "outputs": [
    {
     "name": "stdout",
     "output_type": "stream",
     "text": [
      "[1, 2, 2, 4, 3, 6]\n",
      "[1, 2, 2, 4, 3, 6]\n"
     ]
    }
   ],
   "source": [
    "# 4. 중첩 for문\n",
    "pos = []\n",
    "for i in range(1,4):\n",
    "    for j in range(1,3):\n",
    "        pos.append(i*j)\n",
    "\n",
    "print(pos)\n",
    "\n",
    "# comprehension으로 변경\n",
    "pos = [i*j for i in range(1,4) for j in range(1,3)]  \n",
    "print(pos)"
   ]
  },
  {
   "cell_type": "code",
   "execution_count": 24,
   "metadata": {},
   "outputs": [
    {
     "name": "stdout",
     "output_type": "stream",
     "text": [
      "[[0, 0], [0, 0], [0, 0]]\n"
     ]
    }
   ],
   "source": [
    "# 5. 중첩 List Comprehension\n",
    "## 중첩 list comprehension으로 2차원 배열 만들기\n",
    "result = [[0 for i in range(2)] for j in range(3)]\n",
    "print(result)"
   ]
  }
 ],
 "metadata": {
  "kernelspec": {
   "display_name": "base",
   "language": "python",
   "name": "python3"
  },
  "language_info": {
   "codemirror_mode": {
    "name": "ipython",
    "version": 3
   },
   "file_extension": ".py",
   "mimetype": "text/x-python",
   "name": "python",
   "nbconvert_exporter": "python",
   "pygments_lexer": "ipython3",
   "version": "3.9.16"
  },
  "orig_nbformat": 4
 },
 "nbformat": 4,
 "nbformat_minor": 2
}
