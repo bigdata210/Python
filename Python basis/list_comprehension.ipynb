{
 "cells": [
  {
   "attachments": {},
   "cell_type": "markdown",
   "metadata": {},
   "source": [
    "리스트 컴프리헨션\n",
    "1. 기본 구조 : 표현식 + for문\n",
    " result = [표현식 for 변수 in 리스트]\n",
    "\n",
    "2. 표현식 + for문 + 조건문\n",
    " result = [표현식 for 변수 in 리스트 조건문]\n",
    "\n",
    "3. 조건문 + for문\n",
    " result = [조건문 for 변수 in 리스트]\n",
    "\n",
    "4. 중첩 for문\n",
    " result = [조건문 for 변수1 in 리스트1 for 변수2 in 리스트2..]\n",
    "\n",
    "5. 중첩 List Comprehension"
   ]
  },
  {
   "cell_type": "code",
   "execution_count": 5,
   "metadata": {},
   "outputs": [],
   "source": [
    "# 1. 기본 구조\n",
    "## 표현식에 변수 또는 상수를 쓰는 경우\n",
    "n=5\n",
    "\n",
    "# n개의 0으로 초기화된 리스트\n",
    "result = [0 for i in range(n)]  # [0,0,0,0,0]\n",
    "\n",
    "# 0 ~ n으로 초기화된 리스트\n",
    "result = [i for i in range(n)]  # [0,1,2,3,4]\n",
    "\n",
    "# array 리스트의 값을 그대로 복사\n",
    "array = [0, 1, 2, 3, 4, 5, 6, 7, 8] \n",
    "result = [ n for n in array]    # [0,1,2,3,4,5,6,7,8]\n",
    "\n",
    "\n",
    "## 표현식에 연산식이나 함수를 쓰는 경우\n",
    "\n",
    "# arrary의 제곱을 구하는 리스트\n",
    "result = [n*n for n in array]   # [0,1,4,9,16,25,36,49,64]\n"
   ]
  },
  {
   "cell_type": "code",
   "execution_count": null,
   "metadata": {},
   "outputs": [],
   "source": []
  }
 ],
 "metadata": {
  "kernelspec": {
   "display_name": "base",
   "language": "python",
   "name": "python3"
  },
  "language_info": {
   "codemirror_mode": {
    "name": "ipython",
    "version": 3
   },
   "file_extension": ".py",
   "mimetype": "text/x-python",
   "name": "python",
   "nbconvert_exporter": "python",
   "pygments_lexer": "ipython3",
   "version": "3.9.16"
  },
  "orig_nbformat": 4
 },
 "nbformat": 4,
 "nbformat_minor": 2
}
