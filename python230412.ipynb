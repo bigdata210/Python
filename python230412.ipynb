{
  "nbformat": 4,
  "nbformat_minor": 0,
  "metadata": {
    "colab": {
      "provenance": [],
      "toc_visible": true,
      "authorship_tag": "ABX9TyNsUSOYS3Co6+nNCsWqjFae",
      "include_colab_link": true
    },
    "kernelspec": {
      "name": "python3",
      "display_name": "Python 3"
    },
    "language_info": {
      "name": "python"
    }
  },
  "cells": [
    {
      "cell_type": "markdown",
      "metadata": {
        "id": "view-in-github",
        "colab_type": "text"
      },
      "source": [
        "<a href=\"https://colab.research.google.com/github/bigdata210/Python/blob/main/python230412.ipynb\" target=\"_parent\"><img src=\"https://colab.research.google.com/assets/colab-badge.svg\" alt=\"Open In Colab\"/></a>"
      ]
    },
    {
      "cell_type": "code",
      "execution_count": null,
      "metadata": {
        "id": "SLzrXOrz_TPU"
      },
      "outputs": [],
      "source": []
    },
    {
      "cell_type": "markdown",
      "source": [
        "# 데이터 타입\n",
        "- int, str, float, bool이 있음."
      ],
      "metadata": {
        "id": "kY7_ZtNs_4VX"
      }
    },
    {
      "cell_type": "markdown",
      "source": [
        "## int형\n",
        "- 나이 입력하고 출력"
      ],
      "metadata": {
        "id": "nwHATLsSAE4j"
      }
    },
    {
      "cell_type": "code",
      "source": [
        "num_int =30\n",
        "print(num_int)\n",
        "print(type(num_int))"
      ],
      "metadata": {
        "colab": {
          "base_uri": "https://localhost:8080/"
        },
        "id": "Ab2t3Q75AaHl",
        "outputId": "d4cf21c0-1bfa-4482-ea4f-8de5452a5818"
      },
      "execution_count": null,
      "outputs": [
        {
          "output_type": "stream",
          "name": "stdout",
          "text": [
            "30\n",
            "<class 'int'>\n"
          ]
        }
      ]
    },
    {
      "cell_type": "markdown",
      "source": [
        "## float형\n",
        "- 키 입력"
      ],
      "metadata": {
        "id": "D4SxjJIQA6uc"
      }
    },
    {
      "cell_type": "code",
      "source": [
        "my_height=148.8\n",
        "print(my_height)\n",
        "print(type(my_height))"
      ],
      "metadata": {
        "colab": {
          "base_uri": "https://localhost:8080/"
        },
        "id": "tmfueiKXA991",
        "outputId": "80083fb5-506d-4105-bd23-589db872d0e5"
      },
      "execution_count": null,
      "outputs": [
        {
          "output_type": "stream",
          "name": "stdout",
          "text": [
            "148.8\n",
            "<class 'float'>\n"
          ]
        }
      ]
    },
    {
      "cell_type": "markdown",
      "source": [
        "## str형\n",
        "- 이름\n",
        " 입력하고 출력"
      ],
      "metadata": {
        "id": "pZhh-Z5lBMIp"
      }
    },
    {
      "cell_type": "code",
      "source": [
        "my_name = \"hanyoung\"\n",
        "print(my_name)\n",
        "print(type(my_name))"
      ],
      "metadata": {
        "colab": {
          "base_uri": "https://localhost:8080/"
        },
        "id": "ctvj5bA5BPn_",
        "outputId": "e43f17b0-d732-484b-b1e7-0d4291f6f960"
      },
      "execution_count": null,
      "outputs": [
        {
          "output_type": "stream",
          "name": "stdout",
          "text": [
            "hanyoung\n",
            "<class 'str'>\n"
          ]
        }
      ]
    },
    {
      "cell_type": "markdown",
      "source": [],
      "metadata": {
        "id": "IvtoIdQe3Bzr"
      }
    },
    {
      "cell_type": "markdown",
      "source": [
        "## bool형 \n",
        "- 논리 / 참 or 거짓"
      ],
      "metadata": {
        "id": "Fvoyy8xwCBuc"
      }
    },
    {
      "cell_type": "code",
      "source": [
        "x=True\n",
        "y=False\n",
        "z=x==y\n",
        "print(type(x))\n",
        "print(z)"
      ],
      "metadata": {
        "colab": {
          "base_uri": "https://localhost:8080/"
        },
        "id": "DdDjwZZ5CHd6",
        "outputId": "cd4ebf53-a10f-4378-f29f-6cb297abdd26"
      },
      "execution_count": null,
      "outputs": [
        {
          "output_type": "stream",
          "name": "stdout",
          "text": [
            "<class 'bool'>\n",
            "False\n"
          ]
        }
      ]
    },
    {
      "cell_type": "markdown",
      "source": [
        "## 사칙연산"
      ],
      "metadata": {
        "id": "Cm3YfzTjCfFi"
      }
    },
    {
      "cell_type": "code",
      "source": [
        "x=6\n",
        "y=3\n",
        "print(x+y)\n",
        "print(x-y)\n",
        "print(x*y)\n",
        "print(x/y) \n",
        "print(x%y)   #나머지\n",
        "print(x//y)  #몫\n",
        "print(x**y)  #제곱"
      ],
      "metadata": {
        "colab": {
          "base_uri": "https://localhost:8080/"
        },
        "id": "sgujYDabCf7Z",
        "outputId": "fc4bef89-0716-4658-bcfa-2b368c83aee3"
      },
      "execution_count": null,
      "outputs": [
        {
          "output_type": "stream",
          "name": "stdout",
          "text": [
            "9\n",
            "3\n",
            "18\n",
            "2.0\n",
            "0\n",
            "2\n",
            "216\n"
          ]
        }
      ]
    },
    {
      "cell_type": "code",
      "source": [
        "x=10\n",
        "y=11\n",
        "\n",
        "print(x==y)\n",
        "print(x!=y)\n",
        "print(x>y)\n",
        "print(x<y)\n",
        "print(x>=y)\n",
        "print(x<=y)"
      ],
      "metadata": {
        "colab": {
          "base_uri": "https://localhost:8080/"
        },
        "id": "KCn4uD7cDuva",
        "outputId": "32848411-2474-4d4e-d946-f974fb55a3af"
      },
      "execution_count": null,
      "outputs": [
        {
          "output_type": "stream",
          "name": "stdout",
          "text": [
            "False\n",
            "True\n",
            "False\n",
            "True\n",
            "False\n",
            "True\n"
          ]
        }
      ]
    },
    {
      "cell_type": "markdown",
      "source": [
        "## 형변환\n",
        "- 데이터 타입을 변경"
      ],
      "metadata": {
        "id": "WMEhXQ-jC5Kz"
      }
    },
    {
      "cell_type": "code",
      "source": [
        "a=input(\"숫자를 입력해주세요..\")\n",
        "print(a)\n",
        "print(type(a))"
      ],
      "metadata": {
        "colab": {
          "base_uri": "https://localhost:8080/"
        },
        "id": "EZ3Ona-FEGoT",
        "outputId": "3479715c-9f6a-4061-82f2-719593ada300"
      },
      "execution_count": null,
      "outputs": [
        {
          "output_type": "stream",
          "name": "stdout",
          "text": [
            "숫자를 입력해주세요..5\n",
            "5\n",
            "<class 'str'>\n"
          ]
        }
      ]
    },
    {
      "cell_type": "code",
      "source": [
        "b=int(input(\"숫자를 입력해주세요..\"))\n",
        "print(b)\n",
        "print(type(b))   \n",
        "#class가 달라진다 (str -> int로 변경)"
      ],
      "metadata": {
        "colab": {
          "base_uri": "https://localhost:8080/"
        },
        "id": "jMt8vdvzEL7r",
        "outputId": "011e0155-38cd-48c3-a3a5-4190c779e7bf"
      },
      "execution_count": null,
      "outputs": [
        {
          "output_type": "stream",
          "name": "stdout",
          "text": [
            "숫자를 입력해주세요..5\n",
            "5\n",
            "<class 'int'>\n"
          ]
        }
      ]
    },
    {
      "cell_type": "markdown",
      "source": [
        "#String\n",
        "-String 연산자 (+)"
      ],
      "metadata": {
        "id": "jGEOjnIaEpx_"
      }
    },
    {
      "cell_type": "code",
      "source": [
        "a=\"소년은\"\n",
        "b=\"봄을\"\n",
        "c=\"좋아합니다.\"\n",
        "letter = a+\" \"+b+\" 매우 \"+c\n",
        "print(letter)"
      ],
      "metadata": {
        "colab": {
          "base_uri": "https://localhost:8080/"
        },
        "id": "wtf2c79LEgV3",
        "outputId": "9eaf2bfd-672e-408c-e551-469db7e17f78"
      },
      "execution_count": null,
      "outputs": [
        {
          "output_type": "stream",
          "name": "stdout",
          "text": [
            "소년은 봄을 매우 좋아합니다.\n"
          ]
        }
      ]
    },
    {
      "cell_type": "markdown",
      "source": [
        "-String 연산자 (*)"
      ],
      "metadata": {
        "id": "7aYjVOcJFZOB"
      }
    },
    {
      "cell_type": "code",
      "source": [
        "x =\"봄\"\n",
        "lyrics=x*3+\" \"+\" 봄이~ 왔어요\"\n",
        "print(lyrics)"
      ],
      "metadata": {
        "colab": {
          "base_uri": "https://localhost:8080/"
        },
        "id": "UqzWHWxbFbV-",
        "outputId": "8d02f276-7894-4314-858d-27b98a4b4c77"
      },
      "execution_count": null,
      "outputs": [
        {
          "output_type": "stream",
          "name": "stdout",
          "text": [
            "봄봄봄  봄이~ 왔어요\n"
          ]
        }
      ]
    },
    {
      "cell_type": "markdown",
      "source": [
        "## 인덱싱& 슬라이싱"
      ],
      "metadata": {
        "id": "IJgGwprfF7XK"
      }
    },
    {
      "cell_type": "code",
      "source": [
        "x=\"Hello World!!\"\n",
        "\n",
        "# 첫번째 문제 : Hello의 알파벳 o추출\n",
        "print(x[4])\n",
        "\n",
        "# 두번째 문제 : World의 알파펫 l 추출\n",
        "print(x[-4])\n",
        "\n",
        "# 세번째 문제 : World 글자 출력\n",
        "print(x[6:11])"
      ],
      "metadata": {
        "colab": {
          "base_uri": "https://localhost:8080/"
        },
        "id": "_VqMWAA6F6TJ",
        "outputId": "15db1bce-5fe6-4609-bcbf-195ec20df2d4"
      },
      "execution_count": null,
      "outputs": [
        {
          "output_type": "stream",
          "name": "stdout",
          "text": [
            "o\n",
            "l\n",
            "World\n"
          ]
        }
      ]
    },
    {
      "cell_type": "code",
      "source": [
        "x=\"Hello World!!\"\n",
        "print(x[0:11:4])\n",
        "print(x[:])"
      ],
      "metadata": {
        "colab": {
          "base_uri": "https://localhost:8080/"
        },
        "id": "BVl8lPJeIZt4",
        "outputId": "a10b59ef-cac3-4ef0-ff7a-7067310aba85"
      },
      "execution_count": null,
      "outputs": [
        {
          "output_type": "stream",
          "name": "stdout",
          "text": [
            "Hor\n",
            "Hello World!!\n"
          ]
        }
      ]
    },
    {
      "cell_type": "markdown",
      "source": [
        "- immutable 객체<br/>\n",
        ": 변경되지 않는 객체<br/>\n",
        "ex) int, float, tuple, str, bool 등\n",
        "\n",
        "- mutable 객체<br/>\n",
        ": 변경되는 객체<br/>\n",
        "ex) list, set, dictionary 등"
      ],
      "metadata": {
        "id": "VA42nso8O0-C"
      }
    },
    {
      "cell_type": "code",
      "source": [
        "# x를 Aello World!!로 변경하고 싶다면?\n",
        "\n",
        " x[0] ='A' \n",
        "# TypeError: 'str' object does not support item assignment\n",
        "# -> 이 에러는 immutable 객체라서 나옴. : 우회해서 설정해야한다.\n",
        "print(x)"
      ],
      "metadata": {
        "colab": {
          "base_uri": "https://localhost:8080/",
          "height": 137
        },
        "id": "-0LlEJbvNta9",
        "outputId": "d225c2be-e989-4752-e140-26866829a014"
      },
      "execution_count": 219,
      "outputs": [
        {
          "output_type": "error",
          "ename": "IndentationError",
          "evalue": "ignored",
          "traceback": [
            "\u001b[0;36m  File \u001b[0;32m\"<ipython-input-219-9c8a4407071c>\"\u001b[0;36m, line \u001b[0;32m3\u001b[0m\n\u001b[0;31m    x[0] ='A'\u001b[0m\n\u001b[0m    ^\u001b[0m\n\u001b[0;31mIndentationError\u001b[0m\u001b[0;31m:\u001b[0m unexpected indent\n"
          ]
        }
      ]
    },
    {
      "cell_type": "code",
      "source": [
        "x=\"Hello World!!\"\n",
        "x='A'+x[1:]\n",
        "print(x)"
      ],
      "metadata": {
        "colab": {
          "base_uri": "https://localhost:8080/"
        },
        "id": "e-N1FiEgPLv1",
        "outputId": "3ea98f69-b9d1-46c9-bb23-d49c77dda4c3"
      },
      "execution_count": null,
      "outputs": [
        {
          "output_type": "stream",
          "name": "stdout",
          "text": [
            "Aello World!!\n"
          ]
        }
      ]
    },
    {
      "cell_type": "markdown",
      "source": [
        "## 문자열 메서드\n",
        "- 점프투 파이썬 : https://wikidocs.net/book/1"
      ],
      "metadata": {
        "id": "UPNHlVJ0Pir2"
      }
    },
    {
      "cell_type": "code",
      "source": [
        "sampleText = \"hello, kaggle\"\n",
        "upper_text = sampleText.upper()\n",
        "print(upper_text)"
      ],
      "metadata": {
        "colab": {
          "base_uri": "https://localhost:8080/"
        },
        "id": "z0BZ_hn3Ph9O",
        "outputId": "8afdfc81-7b3d-41e4-dfa0-4bb4ad7b33de"
      },
      "execution_count": null,
      "outputs": [
        {
          "output_type": "stream",
          "name": "stdout",
          "text": [
            "HELLO, KAGGLE\n"
          ]
        }
      ]
    },
    {
      "cell_type": "code",
      "source": [
        "sampleNum = 123\n",
        "\n",
        "upper_text =sampleNum.upper()\n",
        "# AttributeError: 'int' object has no attribute 'upper'\n",
        "# int 클래스안에 upper라는 메소드가 없어서 뜨는 에러\n",
        "print(upper_text)"
      ],
      "metadata": {
        "colab": {
          "base_uri": "https://localhost:8080/",
          "height": 248
        },
        "id": "Av-vvbv2QNtR",
        "outputId": "e367e7c7-556d-4a88-8ceb-14be36bfb266"
      },
      "execution_count": 220,
      "outputs": [
        {
          "output_type": "error",
          "ename": "AttributeError",
          "evalue": "ignored",
          "traceback": [
            "\u001b[0;31m---------------------------------------------------------------------------\u001b[0m",
            "\u001b[0;31mAttributeError\u001b[0m                            Traceback (most recent call last)",
            "\u001b[0;32m<ipython-input-220-26bbe831aa96>\u001b[0m in \u001b[0;36m<cell line: 3>\u001b[0;34m()\u001b[0m\n\u001b[1;32m      1\u001b[0m \u001b[0msampleNum\u001b[0m \u001b[0;34m=\u001b[0m \u001b[0;36m123\u001b[0m\u001b[0;34m\u001b[0m\u001b[0;34m\u001b[0m\u001b[0m\n\u001b[1;32m      2\u001b[0m \u001b[0;34m\u001b[0m\u001b[0m\n\u001b[0;32m----> 3\u001b[0;31m \u001b[0mupper_text\u001b[0m \u001b[0;34m=\u001b[0m\u001b[0msampleNum\u001b[0m\u001b[0;34m.\u001b[0m\u001b[0mupper\u001b[0m\u001b[0;34m(\u001b[0m\u001b[0;34m)\u001b[0m\u001b[0;34m\u001b[0m\u001b[0;34m\u001b[0m\u001b[0m\n\u001b[0m\u001b[1;32m      4\u001b[0m \u001b[0;31m# AttributeError: 'int' object has no attribute 'upper'\u001b[0m\u001b[0;34m\u001b[0m\u001b[0;34m\u001b[0m\u001b[0m\n\u001b[1;32m      5\u001b[0m \u001b[0;31m# int 클래스안에 upper라는 메소드가 없어서 뜨는 에러\u001b[0m\u001b[0;34m\u001b[0m\u001b[0;34m\u001b[0m\u001b[0m\n",
            "\u001b[0;31mAttributeError\u001b[0m: 'int' object has no attribute 'upper'"
          ]
        }
      ]
    },
    {
      "cell_type": "markdown",
      "source": [
        "- python 공식 홈페이지 : https://docs.python.org/ko/3.11/index.html <br/>\n",
        "  + 잘모르는 경우 python 공식 홈페이지 확인하기"
      ],
      "metadata": {
        "id": "YwTva7HHTI5e"
      }
    },
    {
      "cell_type": "code",
      "source": [
        "sampleText = \"hello, kaggle\"\n",
        "next_text = sampleText.replace(\"hello\",\"welcome\")\n",
        "print(next_text)"
      ],
      "metadata": {
        "colab": {
          "base_uri": "https://localhost:8080/"
        },
        "id": "Jw5minZ3Tzxl",
        "outputId": "a03ad0c8-c846-41b6-d4e4-53489e367424"
      },
      "execution_count": null,
      "outputs": [
        {
          "output_type": "stream",
          "name": "stdout",
          "text": [
            "welcome, kaggle\n"
          ]
        }
      ]
    },
    {
      "cell_type": "markdown",
      "source": [
        "- **str.replace(old, new[, count])**\n",
        "  + Return a copy of the string with all occurrences of substring old replaced by new. If the optional argument count is given, only the first count occurrences are replaced."
      ],
      "metadata": {
        "id": "SteZ6ofgUXKB"
      }
    },
    {
      "cell_type": "code",
      "source": [
        "sampleText = \"hello, kaggle\"\n",
        "new_text = sampleText.split(sep=\",\")\n",
        "print(new_text)"
      ],
      "metadata": {
        "colab": {
          "base_uri": "https://localhost:8080/"
        },
        "id": "DD9PiP0zUdhE",
        "outputId": "0f0c8264-7b9e-478c-9b91-83dbf57ad2e3"
      },
      "execution_count": null,
      "outputs": [
        {
          "output_type": "stream",
          "name": "stdout",
          "text": [
            "['hello', ' kaggle']\n"
          ]
        }
      ]
    },
    {
      "cell_type": "markdown",
      "source": [
        "- **str.split(sep=None, maxsplit=- 1)**\n",
        "  + Return a list of the words in the string, using sep as the delimiter string. If maxsplit is given, at most maxsplit splits are done (thus, the list will have at most maxsplit+1 elements). If maxsplit is not specified or -1, then there is no limit on the number of splits (all possible splits are made).\n",
        "\n",
        "  + If sep is given, consecutive delimiters are not grouped together and are deemed to delimit empty strings (for example, '1,,2'.split(',') returns ['1', '', '2']). The sep argument may consist of multiple characters (for example, '1<>2<>3'.split('<>') returns ['1', '2', '3']). Splitting an empty string with a specified separator returns ['']."
      ],
      "metadata": {
        "id": "NadCnugtUpyP"
      }
    },
    {
      "cell_type": "markdown",
      "source": [
        "# List(리스트)\n",
        "- [변수]\n",
        "- 시퀀스데이터\n",
        "- 반복문 사용 가능"
      ],
      "metadata": {
        "id": "6s4HY2Huz_VE"
      }
    },
    {
      "cell_type": "code",
      "source": [
        "from collections.abc import Sequence\n",
        "my_num = 100\n",
        "my_list = [1,2,3]\n",
        "my_string = \"hello\"\n",
        "\n",
        "isSeq1 = isinstance(my_num, Sequence)  \n",
        "#isinstance : 객체인지 아닌지 확인\n",
        "print(isSeq1)\n",
        "\n",
        "isSeq2 = isinstance(my_list, Sequence)\n",
        "print(isSeq2)\n",
        "\n",
        "isSeq3 = isinstance(my_string, Sequence)\n",
        "print(isSeq3)\n",
        "# list와 string data는 sequence data 임. => 반복문 가능\n",
        "# int는 sequence data가 아님 => 반복문 불가"
      ],
      "metadata": {
        "colab": {
          "base_uri": "https://localhost:8080/"
        },
        "id": "nLQfvcCOz-cH",
        "outputId": "0156538d-3d73-4717-e85a-dd7df14ef044"
      },
      "execution_count": null,
      "outputs": [
        {
          "output_type": "stream",
          "name": "stdout",
          "text": [
            "False\n",
            "<class 'int'>\n",
            "True\n",
            "True\n"
          ]
        }
      ]
    },
    {
      "cell_type": "markdown",
      "source": [
        "- isinstance(object, classinfo)\n",
        "  + Return True if the object argument is an instance of the classinfo argument, or of a (direct, indirect, or virtual) subclass thereof. If object is not an object of the given type, the function always returns False. If classinfo is a tuple of type objects (or recursively, other such tuples) or a Union Type of multiple types, return True if object is an instance of any of the types. If classinfo is not a type or tuple of types and such tuples, a TypeError exception is raised. TypeError may not be raised for an invalid type if an earlier check succeeds.\n",
        "\n",
        "  + Changed in version 3.10: classinfo can be a Union Type."
      ],
      "metadata": {
        "id": "GmsuqaYm2Vm8"
      }
    },
    {
      "cell_type": "markdown",
      "source": [
        "## 인덱싱 & 슬라이싱\n",
        "- 문자열 했던 것과 방식 동일"
      ],
      "metadata": {
        "id": "zgx3AyCy2dUd"
      }
    },
    {
      "cell_type": "code",
      "source": [
        "a= [\"가\",\"나\",\"다\"]\n",
        "print(a[0])\n",
        "print(a[1])\n",
        "print(a[2])\n",
        "print(a[-1])"
      ],
      "metadata": {
        "colab": {
          "base_uri": "https://localhost:8080/"
        },
        "id": "EQ4JAyyi1Eth",
        "outputId": "2764c0cb-4fe9-433d-84d8-cdd69411574f"
      },
      "execution_count": null,
      "outputs": [
        {
          "output_type": "stream",
          "name": "stdout",
          "text": [
            "가\n",
            "나\n",
            "다\n",
            "다\n"
          ]
        }
      ]
    },
    {
      "cell_type": "code",
      "source": [
        "# 중첩리스트 추출\n",
        "a= [1,2, [\"Apple\",'사과','Banana','키위'],4,5,6]\n",
        "\n",
        "# 문제 : Banana글자에서 알파벳 a(글자의 마지막) 추출\n",
        "print(a[2][2][-1])\n",
        "\n",
        "# 문제 : 사과, Banana, 키위를 추출\n",
        "print(a[2][1:4]) "
      ],
      "metadata": {
        "colab": {
          "base_uri": "https://localhost:8080/"
        },
        "id": "eeXVBEPV3Dya",
        "outputId": "cb4a9411-f6e6-4dcc-9d19-ac8744d8fcd6"
      },
      "execution_count": null,
      "outputs": [
        {
          "output_type": "stream",
          "name": "stdout",
          "text": [
            "a\n",
            "['사과', 'Banana', '키위']\n"
          ]
        }
      ]
    },
    {
      "cell_type": "markdown",
      "source": [
        "## 리스트 메서드 종류\n",
        "- 참고: https://docs.python.org/3/tutorial/datastructures.html\n",
        "\n"
      ],
      "metadata": {
        "id": "8SrLp2Be5GVL"
      }
    },
    {
      "cell_type": "markdown",
      "source": [
        "### append()\n",
        "- 리스트 형식으로 추가\n",
        "- list.append(x)\n",
        "Add an item to the end of the list. Equivalent to a[len(a):] = [x]."
      ],
      "metadata": {
        "id": "fMzFzowS6mAi"
      }
    },
    {
      "cell_type": "code",
      "source": [
        "x= [\"가\",\"나\"]\n",
        "texts = [\"다\",\"라\",\"마\"]\n",
        "x.append(texts)\n",
        "print(x)  \n",
        "# 리스트 형식로 texts가 들어간다.\n",
        "# 왜 리스트 형식으로 들어갈까?"
      ],
      "metadata": {
        "colab": {
          "base_uri": "https://localhost:8080/"
        },
        "id": "JMR0HFal6gA9",
        "outputId": "b7ac7909-e53d-4b7e-9c16-ef49cf10a7d4"
      },
      "execution_count": null,
      "outputs": [
        {
          "output_type": "stream",
          "name": "stdout",
          "text": [
            "['가', '나', ['다', '라', '마']]\n"
          ]
        }
      ]
    },
    {
      "cell_type": "markdown",
      "source": [
        "### extend()\n",
        "- 각 원소별로 추가\n",
        "- Extend the list by appending all the items from the iterable. Equivalent to a[len(a):] = iterable."
      ],
      "metadata": {
        "id": "U2sdD3KW7zMp"
      }
    },
    {
      "cell_type": "code",
      "source": [
        "x= [\"가\",\"나\"]\n",
        "texts = [\"다\",\"라\",\"마\"]\n",
        "x.extend(texts)\n",
        "print(x) "
      ],
      "metadata": {
        "colab": {
          "base_uri": "https://localhost:8080/"
        },
        "id": "p9VL2e-W7dsU",
        "outputId": "31048f58-aa1f-438c-fb12-ecbdd7514a26"
      },
      "execution_count": null,
      "outputs": [
        {
          "output_type": "stream",
          "name": "stdout",
          "text": [
            "['가', '나', '다', '라', '마']\n"
          ]
        }
      ]
    },
    {
      "cell_type": "markdown",
      "source": [
        "### insert()\n",
        "- 인덱스 번호를 지정한 후, 새로운 값 추가\n",
        "- Insert an item at a given position. The first argument is the index of the element before which to insert, so a.insert(0, x) inserts at the front of the list, and a.insert(len(a), x) is equivalent to a.append(x)."
      ],
      "metadata": {
        "id": "-Ckchtvl8AXj"
      }
    },
    {
      "cell_type": "code",
      "source": [
        "x=[\"가\",\"나\",\"라\"]\n",
        "x.insert(2,\"다\")\n",
        "print(x)"
      ],
      "metadata": {
        "colab": {
          "base_uri": "https://localhost:8080/"
        },
        "id": "6kidyC8i8GO_",
        "outputId": "e7bc301c-0f9e-4b6e-d639-2b3e034f0143"
      },
      "execution_count": null,
      "outputs": [
        {
          "output_type": "stream",
          "name": "stdout",
          "text": [
            "['가', '나', '다', '라']\n"
          ]
        }
      ]
    },
    {
      "cell_type": "code",
      "source": [
        "y=[\"가\",\"가\",\"다\",\"마\",\"바\",\"사\"]\n",
        "y.insert(2,\"나,다\")\n",
        "print(y)"
      ],
      "metadata": {
        "colab": {
          "base_uri": "https://localhost:8080/"
        },
        "id": "Td3Ovi3Y8T6b",
        "outputId": "6995dec3-c944-4fb7-999f-9a81d02de21b"
      },
      "execution_count": null,
      "outputs": [
        {
          "output_type": "stream",
          "name": "stdout",
          "text": [
            "['가', '가', '나,다', '다', '마', '바', '사']\n"
          ]
        }
      ]
    },
    {
      "cell_type": "markdown",
      "source": [
        "리스트 값 변경<br/>\n",
        "(단, string type에서는 불가함.)"
      ],
      "metadata": {
        "id": "a3Ry5dvN8gWP"
      }
    },
    {
      "cell_type": "code",
      "source": [
        "x=[\"가\",\"나\",\"C\",\"라\"]\n",
        "x[2]=\"다\"\n",
        "print(x)"
      ],
      "metadata": {
        "colab": {
          "base_uri": "https://localhost:8080/"
        },
        "id": "6XRsyHfG8fKM",
        "outputId": "17afd13f-d8b6-4db8-e34c-9f5d35feb126"
      },
      "execution_count": null,
      "outputs": [
        {
          "output_type": "stream",
          "name": "stdout",
          "text": [
            "['가', '나', '다', '라']\n"
          ]
        }
      ]
    },
    {
      "cell_type": "markdown",
      "source": [
        "## 리스트 값 삭제\n",
        "- remove\n",
        "  + Remove the first item from the list whose value is equal to x. It raises a ValueError if there is no such item.\n",
        "- del\n",
        "  + Variable references can be used to load the value of a variable, to assign a new value to it, or to delete it. Variable references are given a context to distinguish these cases.\n",
        "- pop\n",
        "  + Remove the item at the given position in the list, and return it. If no index is specified, a.pop() removes and returns the last item in the list. (The square brackets around the i in the method signature denote that the parameter is optional, not that you should type square brackets at that position. You will see this notation frequently in the Python Library Reference.)"
      ],
      "metadata": {
        "id": "FNZ-S59m83Vq"
      }
    },
    {
      "cell_type": "code",
      "source": [
        "dates = [412, 510, 531, 1014, 5057, \"커피\"]\n",
        "\n",
        "#remove : list에서만 사용 가능\n",
        "dates.remove(412)\n",
        "print(dates)\n",
        "\n",
        "#del : 변수에서 사용 가능\n",
        "del dates[0]\n",
        "print((type(dates)),dates)\n",
        "\n",
        "#pop : 값만 추출 \n",
        "#pop에서 추출된 값은 int,str 형태로 변환된다.\n",
        "datep=dates.pop(-1)\n",
        "print((type(datep)),datep)\n",
        "print((type(dates)),dates)"
      ],
      "metadata": {
        "colab": {
          "base_uri": "https://localhost:8080/"
        },
        "id": "rwcGZjjE8u9D",
        "outputId": "e3056461-801e-4a2a-e137-5ef34ce98b68"
      },
      "execution_count": null,
      "outputs": [
        {
          "output_type": "stream",
          "name": "stdout",
          "text": [
            "[510, 531, 1014, 5057, '커피']\n",
            "<class 'list'> [531, 1014, 5057, '커피']\n",
            "<class 'str'> 커피\n",
            "<class 'list'> [531, 1014, 5057]\n"
          ]
        }
      ]
    },
    {
      "cell_type": "markdown",
      "source": [
        "# Tuple(튜플)\n",
        "- (변수)\n",
        "- 리스트와 같이 인덱싱 & 슬라이딩 동일\n",
        "- 수정, 추가, 삭제 불가"
      ],
      "metadata": {
        "id": "ItBObZNhBh4A"
      }
    },
    {
      "cell_type": "code",
      "source": [
        "my_tuple = (\"Hi\", 1,2,3)\n",
        "print((type(my_tuple)),my_tuple)"
      ],
      "metadata": {
        "colab": {
          "base_uri": "https://localhost:8080/"
        },
        "id": "OytqBf78Bu3g",
        "outputId": "0b79790d-cdae-4771-c2a8-d8ecf81f1a4b"
      },
      "execution_count": null,
      "outputs": [
        {
          "output_type": "stream",
          "name": "stdout",
          "text": [
            "<class 'tuple'> ('Hi', 1, 2, 3)\n"
          ]
        }
      ]
    },
    {
      "cell_type": "code",
      "source": [
        "my_nested_tuple=(\"Hi\",[1,2,3],(3.11,3.23,21.1))\n",
        "print((type(my_nested_tuple)),my_nested_tuple)"
      ],
      "metadata": {
        "colab": {
          "base_uri": "https://localhost:8080/"
        },
        "id": "IQHRylUvByZ1",
        "outputId": "f9d4bfdb-b7af-4133-aafb-bca086b2d3c3"
      },
      "execution_count": null,
      "outputs": [
        {
          "output_type": "stream",
          "name": "stdout",
          "text": [
            "<class 'tuple'> ('Hi', [1, 2, 3], (3.11, 3.23, 21.1))\n"
          ]
        }
      ]
    },
    {
      "cell_type": "code",
      "source": [
        "a= (1,2, (\"Apple\",'사과','Banana','키위'),4,5,6)\n",
        "print((type(a)),a)"
      ],
      "metadata": {
        "colab": {
          "base_uri": "https://localhost:8080/"
        },
        "id": "tr3Q6TdhCcrW",
        "outputId": "d34aa04a-dee9-420e-a29f-7197b4f722e7"
      },
      "execution_count": null,
      "outputs": [
        {
          "output_type": "stream",
          "name": "stdout",
          "text": [
            "<class 'tuple'> (1, 2, ('Apple', '사과', 'Banana', '키위'), 4, 5, 6)\n"
          ]
        }
      ]
    },
    {
      "cell_type": "code",
      "source": [
        "#중첩리스트 추출\n",
        "print(a[0:3][2][2][-1])"
      ],
      "metadata": {
        "colab": {
          "base_uri": "https://localhost:8080/"
        },
        "id": "Due-R4L4C1rn",
        "outputId": "a96a9dea-2a54-4fd4-9647-19b751c15043"
      },
      "execution_count": null,
      "outputs": [
        {
          "output_type": "stream",
          "name": "stdout",
          "text": [
            "a\n"
          ]
        }
      ]
    },
    {
      "cell_type": "code",
      "source": [
        "# 리스트와 튜플의 차이점 \n",
        "# 리스트는 수정 가능\n",
        "x=[\"가\",\"나\",\"C\",\"라\"]\n",
        "x[2]=\"다\"\n",
        "print(x)\n",
        "\n",
        "# 튜플은 수정 불가\n",
        "y=(\"가\",\"나\",\"C\",\"라\")\n",
        "y[2]=\"다\"\n",
        "print(y)\n",
        "# TypeError: 'tuple' object does not support item assignment \n",
        "\n",
        "dates=(412,510,521,1010)\n",
        "\n",
        "# 튜플은 제거 불가 \n",
        "dates.remove[0]\n",
        "print(dates)\n",
        "# AttributeError: 'tuple' object has no attribute 'remove'\n",
        "\n",
        "# 튜플은 삭제 불가\n",
        "del dates[0]\n",
        "print(dates)\n",
        "# TypeError: 'tuple' object doesn't support item deletion "
      ],
      "metadata": {
        "colab": {
          "base_uri": "https://localhost:8080/",
          "height": 284
        },
        "id": "5M5h8MD8DOYY",
        "outputId": "b8ae1b22-10f7-488c-f2e6-07f7c18021b3"
      },
      "execution_count": null,
      "outputs": [
        {
          "output_type": "stream",
          "name": "stdout",
          "text": [
            "['가', '나', '다', '라']\n",
            "('가', '나', 'C', '라')\n"
          ]
        },
        {
          "output_type": "error",
          "ename": "AttributeError",
          "evalue": "ignored",
          "traceback": [
            "\u001b[0;31m---------------------------------------------------------------------------\u001b[0m",
            "\u001b[0;31mAttributeError\u001b[0m                            Traceback (most recent call last)",
            "\u001b[0;32m<ipython-input-145-cfb21c21fcbb>\u001b[0m in \u001b[0;36m<cell line: 16>\u001b[0;34m()\u001b[0m\n\u001b[1;32m     14\u001b[0m \u001b[0;34m\u001b[0m\u001b[0m\n\u001b[1;32m     15\u001b[0m \u001b[0;31m# 튜플은 제거 불가\u001b[0m\u001b[0;34m\u001b[0m\u001b[0;34m\u001b[0m\u001b[0m\n\u001b[0;32m---> 16\u001b[0;31m \u001b[0mdates\u001b[0m\u001b[0;34m.\u001b[0m\u001b[0mremove\u001b[0m\u001b[0;34m[\u001b[0m\u001b[0;36m0\u001b[0m\u001b[0;34m]\u001b[0m\u001b[0;34m\u001b[0m\u001b[0;34m\u001b[0m\u001b[0m\n\u001b[0m\u001b[1;32m     17\u001b[0m \u001b[0mprint\u001b[0m\u001b[0;34m(\u001b[0m\u001b[0mdates\u001b[0m\u001b[0;34m)\u001b[0m\u001b[0;34m\u001b[0m\u001b[0;34m\u001b[0m\u001b[0m\n\u001b[1;32m     18\u001b[0m \u001b[0;34m\u001b[0m\u001b[0m\n",
            "\u001b[0;31mAttributeError\u001b[0m: 'tuple' object has no attribute 'remove'"
          ]
        }
      ]
    },
    {
      "cell_type": "code",
      "source": [
        "my_tuple=(\"가\",\"가\",\"나\",\"나\",\"나\",\"다\",\"라\")\n",
        "\n",
        "#\"나\"의 갯수\n",
        "print(my_tuple.count(\"나\"))\n",
        "\n",
        "#\"라\"가 나오는 자리의 값\n",
        "print(my_tuple.index(\"라\"))\n",
        "\n",
        "#\"나\"가 처음나오는 자리의 값\n",
        "print(my_tuple.index(\"나\"))"
      ],
      "metadata": {
        "colab": {
          "base_uri": "https://localhost:8080/"
        },
        "id": "A6lWZ3fyEfP9",
        "outputId": "9ece276a-7824-4b12-86fd-03ad624e7ead"
      },
      "execution_count": null,
      "outputs": [
        {
          "output_type": "stream",
          "name": "stdout",
          "text": [
            "3\n",
            "2\n",
            "6\n"
          ]
        }
      ]
    },
    {
      "cell_type": "markdown",
      "source": [
        "# Dictionary (딕셔너리)\n",
        "- {\"key\":\"values\"}\n"
      ],
      "metadata": {
        "id": "KRwwD2MdFND_"
      }
    },
    {
      "cell_type": "code",
      "source": [
        "my_dic = {\n",
        "    \"name\": \"hanyoung\",\n",
        "    \"age\": 30,\n",
        "    \"job\": \"데이터 분석가, 개발자\",\n",
        "    \"shopping\": [1,2,3]\n",
        "}\n",
        "print(my_dic)\n",
        "\n",
        "# 문제: 태어난 도시를 추가하세요. \n",
        "my_dic[\"city\"]=\"Busan\"\n",
        "print(my_dic)\n",
        "\n",
        "# 값 수정\n",
        "my_dic[\"shopping\"]=\"가방\"\n",
        "print(my_dic)\n",
        "\n",
        "# 값 제거\n",
        "# key를 제거하면 value 값도 제거됨.\n",
        "del my_dic[\"shopping\"]"
      ],
      "metadata": {
        "colab": {
          "base_uri": "https://localhost:8080/"
        },
        "id": "PKvsGcxkCQ1t",
        "outputId": "6fa3de7d-7deb-4ae5-be4b-f51fe38112dc"
      },
      "execution_count": null,
      "outputs": [
        {
          "output_type": "stream",
          "name": "stdout",
          "text": [
            "{'name': 'hanyoung', 'age': 30, 'job': '데이터 분석가, 개발자', 'shopping': [1, 2, 3]}\n",
            "{'name': 'hanyoung', 'age': 30, 'job': '데이터 분석가, 개발자', 'shopping': [1, 2, 3], 'city': 'Busan'}\n",
            "{'name': 'hanyoung', 'age': 30, 'job': '데이터 분석가, 개발자', 'shopping': '가방', 'city': 'Busan'}\n"
          ]
        }
      ]
    },
    {
      "cell_type": "code",
      "source": [
        "# 각각 data 뽑기\n",
        "print(my_dic.keys())\n",
        "print(my_dic.values())\n",
        "# keys와 values는 list 형태로 저장되어 있다."
      ],
      "metadata": {
        "colab": {
          "base_uri": "https://localhost:8080/"
        },
        "id": "sHYFpSS3IYhT",
        "outputId": "aeda1b02-2cf1-452f-fe8a-f561d8bc4848"
      },
      "execution_count": null,
      "outputs": [
        {
          "output_type": "stream",
          "name": "stdout",
          "text": [
            "dict_keys(['name', 'age', 'job', 'city'])\n",
            "dict_values(['hanyoung', 30, '데이터 분석가, 개발자', 'Busan'])\n"
          ]
        }
      ]
    },
    {
      "cell_type": "code",
      "source": [
        "print(my_dic.items())\n",
        "# items는 list 형태 안에 tuple 형태로 저장되어 있다. (복잡하다.)"
      ],
      "metadata": {
        "colab": {
          "base_uri": "https://localhost:8080/"
        },
        "id": "OfcEwSKYItEJ",
        "outputId": "c8156833-f866-46f2-9222-e49e39582c62"
      },
      "execution_count": null,
      "outputs": [
        {
          "output_type": "stream",
          "name": "stdout",
          "text": [
            "dict_items([('name', 'hanyoung'), ('age', 30), ('job', '데이터 분석가, 개발자'), ('city', 'Busan')])\n"
          ]
        }
      ]
    },
    {
      "cell_type": "code",
      "source": [
        "# data값에 접근하기 위해서는 tuple형태를 list로 변환 후 들어가야 함.\n",
        "result = list(my_dic.items())\n",
        "result[0][1]"
      ],
      "metadata": {
        "colab": {
          "base_uri": "https://localhost:8080/",
          "height": 35
        },
        "id": "gYM6kMXHI57C",
        "outputId": "18fcd79e-89a2-4f22-96a0-5f234633bd3d"
      },
      "execution_count": null,
      "outputs": [
        {
          "output_type": "execute_result",
          "data": {
            "text/plain": [
              "'hanyoung'"
            ],
            "application/vnd.google.colaboratory.intrinsic+json": {
              "type": "string"
            }
          },
          "metadata": {},
          "execution_count": 172
        }
      ]
    },
    {
      "cell_type": "code",
      "source": [
        "for i in my_dic:\n",
        "  print(i)          # 인덱스 번호로 할당X , key 값으로 할당\n",
        "  print(my_dic[i])  # value 값으로 할당 "
      ],
      "metadata": {
        "colab": {
          "base_uri": "https://localhost:8080/"
        },
        "id": "OJtZctOQJKO5",
        "outputId": "57b96aa7-ff56-4553-f875-31a6f4497026"
      },
      "execution_count": null,
      "outputs": [
        {
          "output_type": "stream",
          "name": "stdout",
          "text": [
            "name\n",
            "hanyoung\n",
            "age\n",
            "30\n",
            "job\n",
            "데이터 분석가, 개발자\n",
            "city\n",
            "Busan\n"
          ]
        }
      ]
    },
    {
      "cell_type": "markdown",
      "source": [
        "# 조건문\n",
        "- if-else, if문 작성 시 조건 => True"
      ],
      "metadata": {
        "id": "i_2thXSxJqoL"
      }
    },
    {
      "cell_type": "code",
      "source": [
        "a=30\n",
        "b=31\n",
        "if a >= b:\n",
        "  print(\"a가 크다\")\n",
        "else:\n",
        "  print(\"b가 크다\")"
      ],
      "metadata": {
        "colab": {
          "base_uri": "https://localhost:8080/"
        },
        "id": "cVkNGVsEJvm_",
        "outputId": "0e0e3c8c-13d9-4314-8aba-d6679908bb78"
      },
      "execution_count": null,
      "outputs": [
        {
          "output_type": "stream",
          "name": "stdout",
          "text": [
            "b가 크다\n"
          ]
        }
      ]
    },
    {
      "cell_type": "code",
      "source": [
        "a=31\n",
        "b=31\n",
        "\n",
        "if a > b:\n",
        "  print(\"a가 크다.\")\n",
        "elif a == b:\n",
        "  print(\"a와 b가 같다.\")\n",
        "else: \n",
        "  print(\"b가 크다.\")"
      ],
      "metadata": {
        "colab": {
          "base_uri": "https://localhost:8080/"
        },
        "id": "Q9MMl9xOJ1gW",
        "outputId": "0eafa809-c0c5-48eb-ffd7-11c866b85456"
      },
      "execution_count": null,
      "outputs": [
        {
          "output_type": "stream",
          "name": "stdout",
          "text": [
            "a와 b가 같다.\n"
          ]
        }
      ]
    },
    {
      "cell_type": "code",
      "source": [
        "# 임의의 숫자만 입력(1~100) 할 때, 조건문을 완성하라.\n",
        "# 90점 이상: A, 80점 이상: B, 나머지: C\n",
        "\n",
        "score=int(input(\"점수를 입력하세요.: \"))\n",
        "if score >= 90:\n",
        "  print(\"당신의 학점은 A입니다.\")\n",
        "elif score >= 80:\n",
        "  print(\"당신의 학점은 B입니다.\")\n",
        "else:\n",
        "  print(\"당신의 학점은 C입니다.\")"
      ],
      "metadata": {
        "colab": {
          "base_uri": "https://localhost:8080/"
        },
        "id": "_D0dSeL0KCkG",
        "outputId": "58836b6c-0e1d-446f-ded0-7587f44cc2b8"
      },
      "execution_count": 185,
      "outputs": [
        {
          "output_type": "stream",
          "name": "stdout",
          "text": [
            "점수를 입력하세요.: 88\n",
            "당신의 학점은 B입니다.\n"
          ]
        }
      ]
    },
    {
      "cell_type": "code",
      "source": [
        "# 조건문 한줄 작성\n",
        "a = 38\n",
        "b = 30\n",
        "result = \"a가 b보다 크거나 같다\" if a >= b else \"b가 a보다 작다\"\n",
        "print(result)"
      ],
      "metadata": {
        "id": "p3C32xEGKnQn",
        "colab": {
          "base_uri": "https://localhost:8080/"
        },
        "outputId": "17cc2b8d-43a9-4275-96f1-4e8cb2520d39"
      },
      "execution_count": 187,
      "outputs": [
        {
          "output_type": "stream",
          "name": "stdout",
          "text": [
            "a가 b보다 크거나 같다\n"
          ]
        }
      ]
    },
    {
      "cell_type": "markdown",
      "source": [
        "# 반복문\n",
        "- 반복문을 쓰는 이유?<br/>\n",
        ": 여러번 반복할 일을 줄이기 위해서"
      ],
      "metadata": {
        "id": "g1nVvdpiQWEz"
      }
    },
    {
      "cell_type": "markdown",
      "source": [
        "## For Loop"
      ],
      "metadata": {
        "id": "WTOUMv1iWE5s"
      }
    },
    {
      "cell_type": "code",
      "source": [
        "# 과제 hello world를 10번 출력\n",
        "for i in range(10):\n",
        "  print(\"Hello World\")"
      ],
      "metadata": {
        "colab": {
          "base_uri": "https://localhost:8080/"
        },
        "id": "zZNAZHRCQoMK",
        "outputId": "c2536c38-4462-4690-e25b-48d3f4ac51dc"
      },
      "execution_count": 188,
      "outputs": [
        {
          "output_type": "stream",
          "name": "stdout",
          "text": [
            "Hello World\n",
            "Hello World\n",
            "Hello World\n",
            "Hello World\n",
            "Hello World\n",
            "Hello World\n",
            "Hello World\n",
            "Hello World\n",
            "Hello World\n",
            "Hello World\n"
          ]
        }
      ]
    },
    {
      "cell_type": "code",
      "source": [
        "programming =[\"파이썬\", \"HTML\",\"CSS\",\"JAVA\"]\n",
        "\n",
        "# 리스트가 각각 추출됨 => sequence data이기 때문에 가능 \n",
        "for idx in programming:\n",
        "  print(idx)\n",
        "else: \n",
        "  print(\"반복문 종료\")"
      ],
      "metadata": {
        "colab": {
          "base_uri": "https://localhost:8080/"
        },
        "id": "FlqHY7x3Qb3i",
        "outputId": "7a735cb5-e511-4a07-ba84-13dde65b7ec5"
      },
      "execution_count": 193,
      "outputs": [
        {
          "output_type": "stream",
          "name": "stdout",
          "text": [
            "파이썬\n",
            "HTML\n",
            "CSS\n",
            "JAVA\n",
            "반복문 종료\n"
          ]
        }
      ]
    },
    {
      "cell_type": "code",
      "source": [
        "my_string=\"파이썬\"\n",
        "my_num=1\n",
        "for idx in my_string:\n",
        "  print(idx)\n",
        "\n",
        "for idx in my_num:\n",
        "  print(idx)\n",
        "# TypeError: 'int' object is not iterable\n",
        "# -> int형은 sequence data가 아니기 때문에 반복문 불가"
      ],
      "metadata": {
        "colab": {
          "base_uri": "https://localhost:8080/",
          "height": 303
        },
        "id": "yb0OlrbOR8az",
        "outputId": "d657a359-7843-455a-8f74-e81897658d52"
      },
      "execution_count": 221,
      "outputs": [
        {
          "output_type": "stream",
          "name": "stdout",
          "text": [
            "파\n",
            "이\n",
            "썬\n"
          ]
        },
        {
          "output_type": "error",
          "ename": "TypeError",
          "evalue": "ignored",
          "traceback": [
            "\u001b[0;31m---------------------------------------------------------------------------\u001b[0m",
            "\u001b[0;31mTypeError\u001b[0m                                 Traceback (most recent call last)",
            "\u001b[0;32m<ipython-input-221-a6e2bf2fae34>\u001b[0m in \u001b[0;36m<cell line: 6>\u001b[0;34m()\u001b[0m\n\u001b[1;32m      4\u001b[0m   \u001b[0mprint\u001b[0m\u001b[0;34m(\u001b[0m\u001b[0midx\u001b[0m\u001b[0;34m)\u001b[0m\u001b[0;34m\u001b[0m\u001b[0;34m\u001b[0m\u001b[0m\n\u001b[1;32m      5\u001b[0m \u001b[0;34m\u001b[0m\u001b[0m\n\u001b[0;32m----> 6\u001b[0;31m \u001b[0;32mfor\u001b[0m \u001b[0midx\u001b[0m \u001b[0;32min\u001b[0m \u001b[0mmy_num\u001b[0m\u001b[0;34m:\u001b[0m\u001b[0;34m\u001b[0m\u001b[0;34m\u001b[0m\u001b[0m\n\u001b[0m\u001b[1;32m      7\u001b[0m   \u001b[0mprint\u001b[0m\u001b[0;34m(\u001b[0m\u001b[0midx\u001b[0m\u001b[0;34m)\u001b[0m\u001b[0;34m\u001b[0m\u001b[0;34m\u001b[0m\u001b[0m\n\u001b[1;32m      8\u001b[0m \u001b[0;31m# TypeError: 'int' object is not iterable\u001b[0m\u001b[0;34m\u001b[0m\u001b[0;34m\u001b[0m\u001b[0m\n",
            "\u001b[0;31mTypeError\u001b[0m: 'int' object is not iterable"
          ]
        }
      ]
    },
    {
      "cell_type": "code",
      "source": [
        "# 한번에 for문 작성\n",
        "programming = [\"파이썬\",\"HTML\",\"CSS\",\"JAVA\"]\n",
        "for idx, item in enumerate(programming):\n",
        "  print(idx, item)"
      ],
      "metadata": {
        "colab": {
          "base_uri": "https://localhost:8080/"
        },
        "id": "7sYBdksgSmcM",
        "outputId": "5d447dc7-0cf7-447e-cf52-6e605729b8f2"
      },
      "execution_count": 196,
      "outputs": [
        {
          "output_type": "stream",
          "name": "stdout",
          "text": [
            "0 파이썬\n",
            "1 HTML\n",
            "2 CSS\n",
            "3 JAVA\n"
          ]
        }
      ]
    },
    {
      "cell_type": "code",
      "source": [
        "#zip으로 묶어서 반복문 사용 가능\n",
        "total_sales = [1000, 2000, 3000]\n",
        "prices = [2.5, 3.3, 1.9]\n",
        "\n",
        "for sales, price in zip(total_sales, prices):\n",
        "  revenue = sales * price\n",
        "  print(revenue)"
      ],
      "metadata": {
        "colab": {
          "base_uri": "https://localhost:8080/"
        },
        "id": "NFc87cnqUMCK",
        "outputId": "a1a71882-0d02-4bb4-bb30-ecd998132960"
      },
      "execution_count": 201,
      "outputs": [
        {
          "output_type": "stream",
          "name": "stdout",
          "text": [
            "2500.0\n",
            "6600.0\n",
            "5700.0\n"
          ]
        }
      ]
    },
    {
      "cell_type": "code",
      "source": [],
      "metadata": {
        "id": "RkKGa8-HVMgn"
      },
      "execution_count": null,
      "outputs": []
    },
    {
      "cell_type": "code",
      "source": [
        "# 갯수가 맞지 않을 경우, 마지막 4000은 제외 후 출력됨.\n",
        "total_sales = [1000, 2000, 3000,4000]\n",
        "prices = [2.5, 3.3, 1.9]\n",
        "\n",
        "for sales, price in zip(total_sales, prices):\n",
        "  revenue = sales * price\n",
        "  print(sales, price, revenue)"
      ],
      "metadata": {
        "colab": {
          "base_uri": "https://localhost:8080/"
        },
        "id": "8bk6SBJAUeSw",
        "outputId": "bcad3900-4351-4d51-9c3e-ba9016218595"
      },
      "execution_count": 203,
      "outputs": [
        {
          "output_type": "stream",
          "name": "stdout",
          "text": [
            "1000 2.5 2500.0\n",
            "2000 3.3 6600.0\n",
            "3000 1.9 5700.0\n"
          ]
        }
      ]
    },
    {
      "cell_type": "markdown",
      "source": [
        "## While Loop\n",
        "- for문과 while문의 차이점?\n",
        "  + for문: 반복문을 해야하는 범위가 주어짐. 범위가 완료되면 반복문 종료.\n",
        "  + while문: 조건이 True이면 계속 돌게 됨. 조건이 False일 때 반복문 종료.\n"
      ],
      "metadata": {
        "id": "FWKjCWxHVsIX"
      }
    },
    {
      "cell_type": "code",
      "source": [
        "for i in range(1,4):   # range(1,4): 범위\n",
        "  print(i)"
      ],
      "metadata": {
        "colab": {
          "base_uri": "https://localhost:8080/"
        },
        "id": "0d8_NJDCXfUM",
        "outputId": "6607f2c6-1753-4c28-e829-8a2dc4682e29"
      },
      "execution_count": 204,
      "outputs": [
        {
          "output_type": "stream",
          "name": "stdout",
          "text": [
            "1\n",
            "2\n",
            "3\n"
          ]
        }
      ]
    },
    {
      "cell_type": "code",
      "source": [
        "i=1\n",
        "while i <= 3:       # i<=3 : 조건 \n",
        "  print(i)\n",
        "  i+=1"
      ],
      "metadata": {
        "colab": {
          "base_uri": "https://localhost:8080/"
        },
        "id": "mqnh2-K7XkOT",
        "outputId": "a5859f43-48aa-4029-c944-b899bad7c158"
      },
      "execution_count": 206,
      "outputs": [
        {
          "output_type": "stream",
          "name": "stdout",
          "text": [
            "1\n",
            "2\n",
            "3\n"
          ]
        }
      ]
    },
    {
      "cell_type": "code",
      "source": [
        "#문제\n",
        "print(\"[결과]\")\n",
        "username = input(\"사용자 이름을 입력해주세요!\")\n",
        "password = \"\"\n",
        "\n",
        "while password != \"A\":\n",
        "  print(\"정확한 비밀번호를 입력해주세요!\")\n",
        "  password = input(\"비밀번호를 입력해주세요!\")\n",
        "\n",
        "print(f\"{username}님 환영합니다.\")\n",
        "\n",
        "#사용자 이름을 입력해주세요! 입력값\n",
        "#정확한 비밀번호를 입력해주세요! \n",
        "#비밀번호를 입력해주세요! 입력값"
      ],
      "metadata": {
        "colab": {
          "base_uri": "https://localhost:8080/"
        },
        "id": "MuCzUbSJXpes",
        "outputId": "3c33bbb3-57b1-43a8-a25e-635c0a3b587a"
      },
      "execution_count": 218,
      "outputs": [
        {
          "output_type": "stream",
          "name": "stdout",
          "text": [
            "[결과]\n",
            "사용자 이름을 입력해주세요!이한영\n",
            "정확한 비밀번호를 입력해주세요!\n",
            "비밀번호를 입력해주세요!A\n",
            "이한영님 환영합니다.\n"
          ]
        }
      ]
    }
  ]
}